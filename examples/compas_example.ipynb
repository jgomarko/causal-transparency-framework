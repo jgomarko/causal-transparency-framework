{
 "cells": [
  {
   "cell_type": "markdown",
   "id": "6df47643",
   "metadata": {},
   "source": [
    "# Causal Transparency Framework - COMPAS Example\n",
    "\n",
    "This notebook demonstrates the application of the Causal Transparency Framework (CTF) to the COMPAS recidivism dataset, focusing on fairness and bias analysis.\n",
    "\n",
    "## Overview\n",
    "\n",
    "The CTF provides a structured approach to evaluating and enhancing model transparency through causal reasoning. In this example with the COMPAS dataset, we'll focus on:\n",
    "\n",
    "1. Discovering causal relationships in recidivism prediction\n",
    "2. Evaluating racial bias through causal lens\n",
    "3. Comparing standard and causal models for fairness\n",
    "4. Analyzing counterfactual explanations across demographic groups\n",
    "\n",
    "This allows us to understand how the CTF can help identify and mitigate algorithmic bias in criminal justice applications."
   ]
  },
  {
   "cell_type": "code",
   "execution_count": 85,
   "id": "d2d4a4fd",
   "metadata": {},
   "outputs": [],
   "source": [
    "import sys\n",
    "import networkx as nx\n",
    "\n",
    "from notebook_utils import add_ctf_to_path"
   ]
  },
  {
   "cell_type": "code",
   "execution_count": 4,
   "id": "7953ceb2",
   "metadata": {},
   "outputs": [
    {
     "name": "stdout",
     "output_type": "stream",
     "text": [
      "Added /Users/johnmarko/Desktop/The Accountability Gap of AI/mimic-iii-clinical-database-demo-1.4 4/ctf_repo to Python path\n",
      "Successfully imported CTF module from /Users/johnmarko/Desktop/The Accountability Gap of AI/mimic-iii-clinical-database-demo-1.4 4/ctf_repo/ctf/__init__.py\n"
     ]
    },
    {
     "data": {
      "text/plain": [
       "True"
      ]
     },
     "execution_count": 4,
     "metadata": {},
     "output_type": "execute_result"
    }
   ],
   "source": [
    "# Add repository root to path\n",
    "add_ctf_to_path()"
   ]
  },
  {
   "cell_type": "code",
   "execution_count": 6,
   "id": "18f7ab12",
   "metadata": {},
   "outputs": [],
   "source": [
    "# Import necessary libraries\n",
    "import os\n",
    "import pandas as pd\n",
    "import numpy as np\n",
    "import matplotlib.pyplot as plt\n",
    "import seaborn as sns"
   ]
  },
  {
   "cell_type": "code",
   "execution_count": 8,
   "id": "857eae0c",
   "metadata": {},
   "outputs": [],
   "source": [
    "# Import CTF components\n",
    "from ctf.framework import CausalTransparencyFramework\n",
    "from ctf.causal_discovery import CausalDiscovery\n",
    "from ctf.transparency_metrics import TransparencyMetrics"
   ]
  },
  {
   "cell_type": "code",
   "execution_count": 9,
   "id": "cdd490ef",
   "metadata": {},
   "outputs": [],
   "source": [
    "# Set random seed for reproducibility\n",
    "np.random.seed(42)"
   ]
  },
  {
   "cell_type": "code",
   "execution_count": 10,
   "id": "db42c352",
   "metadata": {},
   "outputs": [],
   "source": [
    "# Path to the processed COMPAS dataset\n",
    "data_path = \"../data/processed_compas_data.csv\""
   ]
  },
  {
   "cell_type": "code",
   "execution_count": 14,
   "id": "0b65e163",
   "metadata": {},
   "outputs": [
    {
     "name": "stdout",
     "output_type": "stream",
     "text": [
      "Loaded COMPAS dataset with 1000 samples and 9 features\n"
     ]
    }
   ],
   "source": [
    "# Check if the file exists\n",
    "if not os.path.exists(data_path):\n",
    "    print(f\"Warning: {data_path} not found.\")\n",
    "    print(\"Please download the processed COMPAS dataset or update the path.\")\n",
    "    \n",
    "    # For demonstration purposes, we'll create a small synthetic dataset\n",
    "    print(\"Creating synthetic dataset for demonstration...\")\n",
    "    \n",
    "    # Set random seed for reproducibility\n",
    "    np.random.seed(42)\n",
    "    \n",
    "    # Create synthetic data\n",
    "    n_samples = 1000\n",
    "    \n",
    "    # Create demographics features\n",
    "    age = np.random.normal(35, 10, n_samples)\n",
    "    age = np.clip(age, 18, 70)\n",
    "    \n",
    "    # Create race variables with bias\n",
    "    race_african_american = np.random.binomial(1, 0.5, n_samples)\n",
    "    race_caucasian = 1 - race_african_american\n",
    "    \n",
    "    # Create gender variables\n",
    "    gender_male = np.random.binomial(1, 0.8, n_samples)\n",
    "    gender_female = 1 - gender_male\n",
    "    \n",
    "    # Create priors count (slightly higher for African Americans due to systemic bias)\n",
    "    base_priors = np.random.poisson(2, n_samples)\n",
    "    race_effect = race_african_american * np.random.binomial(1, 0.3, n_samples)\n",
    "    priors_count = base_priors + race_effect\n",
    "    \n",
    "    # Create charge degree\n",
    "    charge_degree_f = np.random.binomial(1, 0.3, n_samples)\n",
    "    charge_degree_m = 1 - charge_degree_f\n",
    "    \n",
    "    # Create recidivism (target - influenced by age, priors, with racial bias)\n",
    "    logits = -3 + 0.7 * priors_count - 0.03 * age + 0.3 * race_african_american\n",
    "    p_recid = 1 / (1 + np.exp(-logits))\n",
    "    two_year_recid = np.random.binomial(1, p_recid)\n",
    "    \n",
    "    # Create DataFrame\n",
    "    df = pd.DataFrame({\n",
    "        'age': age,\n",
    "        'race_African-American': race_african_american,\n",
    "        'race_Caucasian': race_caucasian,\n",
    "        'sex_Female': gender_female,\n",
    "        'sex_Male': gender_male,\n",
    "        'priors_count': priors_count,\n",
    "        'c_charge_degree_F': charge_degree_f,\n",
    "        'c_charge_degree_M': charge_degree_m,\n",
    "        'two_year_recid': two_year_recid\n",
    "    })\n",
    "    \n",
    "    # Save synthetic data\n",
    "    os.makedirs(os.path.dirname(data_path), exist_ok=True)\n",
    "    df.to_csv(data_path, index=False)\n",
    "    print(f\"Synthetic dataset created and saved to {data_path}\")\n",
    "else:\n",
    "    # Load the real dataset\n",
    "    df = pd.read_csv(data_path)\n",
    "    print(f\"Loaded COMPAS dataset with {df.shape[0]} samples and {df.shape[1]} features\")"
   ]
  },
  {
   "cell_type": "code",
   "execution_count": 16,
   "id": "993c069d",
   "metadata": {},
   "outputs": [
    {
     "name": "stdout",
     "output_type": "stream",
     "text": [
      "Dataset columns:\n",
      "['age', 'race_African-American', 'race_Caucasian', 'sex_Female', 'sex_Male', 'priors_count', 'c_charge_degree_F', 'c_charge_degree_M', 'two_year_recid']\n",
      "\n",
      "Dataset summary:\n"
     ]
    },
    {
     "data": {
      "text/html": [
       "<div>\n",
       "<style scoped>\n",
       "    .dataframe tbody tr th:only-of-type {\n",
       "        vertical-align: middle;\n",
       "    }\n",
       "\n",
       "    .dataframe tbody tr th {\n",
       "        vertical-align: top;\n",
       "    }\n",
       "\n",
       "    .dataframe thead th {\n",
       "        text-align: right;\n",
       "    }\n",
       "</style>\n",
       "<table border=\"1\" class=\"dataframe\">\n",
       "  <thead>\n",
       "    <tr style=\"text-align: right;\">\n",
       "      <th></th>\n",
       "      <th>age</th>\n",
       "      <th>race_African-American</th>\n",
       "      <th>race_Caucasian</th>\n",
       "      <th>sex_Female</th>\n",
       "      <th>sex_Male</th>\n",
       "      <th>priors_count</th>\n",
       "      <th>c_charge_degree_F</th>\n",
       "      <th>c_charge_degree_M</th>\n",
       "      <th>two_year_recid</th>\n",
       "    </tr>\n",
       "  </thead>\n",
       "  <tbody>\n",
       "    <tr>\n",
       "      <th>count</th>\n",
       "      <td>1000.000000</td>\n",
       "      <td>1000.000000</td>\n",
       "      <td>1000.000000</td>\n",
       "      <td>1000.00000</td>\n",
       "      <td>1000.00000</td>\n",
       "      <td>1000.000000</td>\n",
       "      <td>1000.000000</td>\n",
       "      <td>1000.000000</td>\n",
       "      <td>1000.000000</td>\n",
       "    </tr>\n",
       "    <tr>\n",
       "      <th>mean</th>\n",
       "      <td>35.316459</td>\n",
       "      <td>0.515000</td>\n",
       "      <td>0.485000</td>\n",
       "      <td>0.19200</td>\n",
       "      <td>0.80800</td>\n",
       "      <td>2.125000</td>\n",
       "      <td>0.260000</td>\n",
       "      <td>0.740000</td>\n",
       "      <td>0.117000</td>\n",
       "    </tr>\n",
       "    <tr>\n",
       "      <th>std</th>\n",
       "      <td>9.507432</td>\n",
       "      <td>0.500025</td>\n",
       "      <td>0.500025</td>\n",
       "      <td>0.39407</td>\n",
       "      <td>0.39407</td>\n",
       "      <td>1.407607</td>\n",
       "      <td>0.438854</td>\n",
       "      <td>0.438854</td>\n",
       "      <td>0.321581</td>\n",
       "    </tr>\n",
       "    <tr>\n",
       "      <th>min</th>\n",
       "      <td>18.000000</td>\n",
       "      <td>0.000000</td>\n",
       "      <td>0.000000</td>\n",
       "      <td>0.00000</td>\n",
       "      <td>0.00000</td>\n",
       "      <td>0.000000</td>\n",
       "      <td>0.000000</td>\n",
       "      <td>0.000000</td>\n",
       "      <td>0.000000</td>\n",
       "    </tr>\n",
       "    <tr>\n",
       "      <th>25%</th>\n",
       "      <td>28.524097</td>\n",
       "      <td>0.000000</td>\n",
       "      <td>0.000000</td>\n",
       "      <td>0.00000</td>\n",
       "      <td>1.00000</td>\n",
       "      <td>1.000000</td>\n",
       "      <td>0.000000</td>\n",
       "      <td>0.000000</td>\n",
       "      <td>0.000000</td>\n",
       "    </tr>\n",
       "    <tr>\n",
       "      <th>50%</th>\n",
       "      <td>35.253006</td>\n",
       "      <td>1.000000</td>\n",
       "      <td>0.000000</td>\n",
       "      <td>0.00000</td>\n",
       "      <td>1.00000</td>\n",
       "      <td>2.000000</td>\n",
       "      <td>0.000000</td>\n",
       "      <td>1.000000</td>\n",
       "      <td>0.000000</td>\n",
       "    </tr>\n",
       "    <tr>\n",
       "      <th>75%</th>\n",
       "      <td>41.479439</td>\n",
       "      <td>1.000000</td>\n",
       "      <td>1.000000</td>\n",
       "      <td>0.00000</td>\n",
       "      <td>1.00000</td>\n",
       "      <td>3.000000</td>\n",
       "      <td>1.000000</td>\n",
       "      <td>1.000000</td>\n",
       "      <td>0.000000</td>\n",
       "    </tr>\n",
       "    <tr>\n",
       "      <th>max</th>\n",
       "      <td>70.000000</td>\n",
       "      <td>1.000000</td>\n",
       "      <td>1.000000</td>\n",
       "      <td>1.00000</td>\n",
       "      <td>1.00000</td>\n",
       "      <td>7.000000</td>\n",
       "      <td>1.000000</td>\n",
       "      <td>1.000000</td>\n",
       "      <td>1.000000</td>\n",
       "    </tr>\n",
       "  </tbody>\n",
       "</table>\n",
       "</div>"
      ],
      "text/plain": [
       "               age  race_African-American  race_Caucasian  sex_Female  \\\n",
       "count  1000.000000            1000.000000     1000.000000  1000.00000   \n",
       "mean     35.316459               0.515000        0.485000     0.19200   \n",
       "std       9.507432               0.500025        0.500025     0.39407   \n",
       "min      18.000000               0.000000        0.000000     0.00000   \n",
       "25%      28.524097               0.000000        0.000000     0.00000   \n",
       "50%      35.253006               1.000000        0.000000     0.00000   \n",
       "75%      41.479439               1.000000        1.000000     0.00000   \n",
       "max      70.000000               1.000000        1.000000     1.00000   \n",
       "\n",
       "         sex_Male  priors_count  c_charge_degree_F  c_charge_degree_M  \\\n",
       "count  1000.00000   1000.000000        1000.000000        1000.000000   \n",
       "mean      0.80800      2.125000           0.260000           0.740000   \n",
       "std       0.39407      1.407607           0.438854           0.438854   \n",
       "min       0.00000      0.000000           0.000000           0.000000   \n",
       "25%       1.00000      1.000000           0.000000           0.000000   \n",
       "50%       1.00000      2.000000           0.000000           1.000000   \n",
       "75%       1.00000      3.000000           1.000000           1.000000   \n",
       "max       1.00000      7.000000           1.000000           1.000000   \n",
       "\n",
       "       two_year_recid  \n",
       "count     1000.000000  \n",
       "mean         0.117000  \n",
       "std          0.321581  \n",
       "min          0.000000  \n",
       "25%          0.000000  \n",
       "50%          0.000000  \n",
       "75%          0.000000  \n",
       "max          1.000000  "
      ]
     },
     "execution_count": 16,
     "metadata": {},
     "output_type": "execute_result"
    }
   ],
   "source": [
    "# Explore the dataset\n",
    "print(\"Dataset columns:\")\n",
    "print(df.columns.tolist())\n",
    "\n",
    "print(\"\\nDataset summary:\")\n",
    "df.describe()"
   ]
  },
  {
   "cell_type": "code",
   "execution_count": 18,
   "id": "ca498bf3",
   "metadata": {},
   "outputs": [
    {
     "name": "stdout",
     "output_type": "stream",
     "text": [
      "\n",
      "Target (recidivism) distribution:\n",
      "0    0.883\n",
      "1    0.117\n",
      "Name: two_year_recid, dtype: float64\n"
     ]
    }
   ],
   "source": [
    "# Check target distribution\n",
    "print(\"\\nTarget (recidivism) distribution:\")\n",
    "print(df['two_year_recid'].value_counts(normalize=True))"
   ]
  },
  {
   "cell_type": "code",
   "execution_count": 20,
   "id": "1c600e10",
   "metadata": {},
   "outputs": [
    {
     "data": {
      "text/plain": [
       "<Figure size 1000x600 with 0 Axes>"
      ]
     },
     "execution_count": 20,
     "metadata": {},
     "output_type": "execute_result"
    },
    {
     "data": {
      "text/plain": [
       "<Figure size 1000x600 with 0 Axes>"
      ]
     },
     "metadata": {},
     "output_type": "display_data"
    }
   ],
   "source": [
    "# Visualize target distribution by race\n",
    "plt.figure(figsize=(10, 6))"
   ]
  },
  {
   "cell_type": "code",
   "execution_count": 22,
   "id": "f3cb3ac4",
   "metadata": {},
   "outputs": [
    {
     "data": {
      "image/png": "[encoded data removed]",
      "text/plain": [
       "<Figure size 640x480 with 1 Axes>"
      ]
     },
     "metadata": {},
     "output_type": "display_data"
    },
    {
     "name": "stdout",
     "output_type": "stream",
     "text": [
      "\n",
      "Recidivism rates by race:\n",
      "race\n",
      "African-American    0.141748\n",
      "Caucasian           0.090722\n",
      "Name: two_year_recid, dtype: float64\n"
     ]
    }
   ],
   "source": [
    "# Create a combined race column for visualization\n",
    "if 'race_African-American' in df.columns and 'race_Caucasian' in df.columns:\n",
    "    df['race'] = np.where(df['race_African-American'] == 1, 'African-American', 'Caucasian')\n",
    "    \n",
    "    sns.countplot(x='race', hue='two_year_recid', data=df)\n",
    "    plt.title('Recidivism by Race')\n",
    "    plt.xlabel('Race')\n",
    "    plt.ylabel('Count')\n",
    "    plt.legend(title='Recidivism')\n",
    "    plt.show()\n",
    "    \n",
    "    # Calculate recidivism rates by race\n",
    "    recid_by_race = df.groupby('race')['two_year_recid'].mean()\n",
    "    print(\"\\nRecidivism rates by race:\")\n",
    "    print(recid_by_race)"
   ]
  },
  {
   "cell_type": "markdown",
   "source": "## Applying the Causal Transparency Framework\n\nNow we'll initialize and apply the Causal Transparency Framework to analyze the COMPAS dataset. This involves:\n\n1. Setting up the framework configuration\n2. Adding domain knowledge about criminal justice variables\n3. Discovering the causal structure in the data\n4. Training predictive models (causal and full)\n5. Calculating transparency metrics",
   "metadata": {}
  },
  {
   "cell_type": "code",
   "execution_count": 24,
   "id": "c709d867",
   "metadata": {},
   "outputs": [
    {
     "name": "stdout",
     "output_type": "stream",
     "text": [
      "Loading data from ../data/processed_compas_data.csv\n",
      "Data loaded: 1000 rows, 9 columns\n"
     ]
    }
   ],
   "source": [
    "# Initialize the framework\n",
    "ctf = CausalTransparencyFramework(\n",
    "    data_path=data_path,\n",
    "    target_col=\"two_year_recid\",\n",
    "    output_dir=\"../results/compas\",\n",
    "    random_state=42\n",
    ")"
   ]
  },
  {
   "cell_type": "code",
   "execution_count": 26,
   "id": "7b9dc2fe",
   "metadata": {},
   "outputs": [],
   "source": [
    "# Add domain knowledge for criminal justice\n",
    "domain_knowledge = {\n",
    "    \"edges\": [\n",
    "        # Domain knowledge about recidivism predictors\n",
    "        # Format: [source, target, weight]\n",
    "        [\"priors_count\", \"two_year_recid\", 0.8],\n",
    "        [\"age\", \"two_year_recid\", 0.6],\n",
    "        [\"c_charge_degree_F\", \"two_year_recid\", 0.4],\n",
    "        \n",
    "        # Social context edges - these represent systemic bias, not causal effects\n",
    "        [\"race_African-American\", \"priors_count\", 0.3],\n",
    "        \n",
    "        # Other demographic relationships\n",
    "        [\"sex_Male\", \"priors_count\", 0.2]\n",
    "    ]\n",
    "}"
   ]
  },
  {
   "cell_type": "code",
   "execution_count": 28,
   "id": "08264052",
   "metadata": {},
   "outputs": [
    {
     "name": "stdout",
     "output_type": "stream",
     "text": [
      "Discovering causal structure...\n",
      "Creating ensemble causal graph\n",
      "Creating correlation-based causal graph\n",
      "Correlation graph created with 9 nodes and 4 edges\n",
      "Skipping PC graph: 'CausalDiscovery' object has no attribute 'create_pc_graph'\n",
      "Skipping Hill Climbing graph: 'CausalDiscovery' object has no attribute 'create_hill_climbing_graph'\n",
      "Ensemble graph created with 9 nodes and 8 edges\n",
      "Causal graph discovered with 9 nodes and 8 edges\n"
     ]
    }
   ],
   "source": [
    "# Discover causal structure\n",
    "G = ctf.discover_causal_structure(domain_knowledge=domain_knowledge)\n",
    "print(f\"Causal graph discovered with {len(G.nodes())} nodes and {len(G.edges())} edges\")"
   ]
  },
  {
   "cell_type": "code",
   "execution_count": 29,
   "id": "aa56a9a4",
   "metadata": {},
   "outputs": [
    {
     "name": "stdout",
     "output_type": "stream",
     "text": [
      "Training predictive models...\n",
      "Using 3 causal features: ['priors_count', 'age', 'c_charge_degree_F']\n",
      "Model causal_lr: Accuracy=0.9050, AUC=0.7337, F1=0.2400\n",
      "Model causal_rf: Accuracy=0.8150, AUC=0.5918, F1=0.2128\n",
      "Model causal_xgb: Accuracy=0.8500, AUC=0.6531, F1=0.2105\n",
      "Model full_lr: Accuracy=0.9000, AUC=0.7464, F1=0.2308\n",
      "Model full_rf: Accuracy=0.8400, AUC=0.6267, F1=0.1111\n",
      "Model full_xgb: Accuracy=0.8750, AUC=0.6318, F1=0.3243\n",
      "Trained 6 models\n"
     ]
    }
   ],
   "source": [
    "# Train predictive models\n",
    "models = ctf.train_models(test_size=0.2)\n",
    "print(f\"Trained {len(models)} models\")"
   ]
  },
  {
   "cell_type": "code",
   "execution_count": 30,
   "id": "04b5184b",
   "metadata": {},
   "outputs": [
    {
     "name": "stdout",
     "output_type": "stream",
     "text": [
      "Calculating transparency metrics...\n",
      "Top 5 features by Causal Influence Index:\n",
      "  priors_count: 0.7761\n",
      "  age: 0.1582\n",
      "  c_charge_degree_F: 0.0658\n",
      "CCM Calculation:\n",
      "  Graph complexity (K_G): 18.42\n",
      "  Model complexity (K_F): 24138.00\n",
      "  CCM (raw): 24156.42\n",
      "  CCM (scaled): 14.56\n",
      "\n",
      "Calculating metrics for model: causal_lr\n",
      "Transparency Entropy Calculation:\n",
      "  H(M|O): 0.4739\n",
      "  H(M|I,O): 0.3645\n",
      "  TE: 0.1094\n",
      "Calculating CS for features: ['priors_count', 'age', 'c_charge_degree_F']\n",
      "  Calculating CS for feature 'priors_count'...\n",
      "    CS(priors_count) = 0.9923\n",
      "  Calculating CS for feature 'age'...\n",
      "    CS(age) = 0.9979\n",
      "  Calculating CS for feature 'c_charge_degree_F'...\n",
      "    CS(c_charge_degree_F) = 0.9987\n",
      "  Overall CS = 0.9963\n",
      "Radar chart saved to ../results/compas/visualizations/ctf_radar_causal_lr.png\n",
      "\n",
      "Calculating metrics for model: causal_rf\n",
      "Transparency Entropy Calculation:\n",
      "  H(M|O): 0.2692\n",
      "  H(M|I,O): 0.2071\n",
      "  TE: 0.0621\n",
      "Calculating CS for features: ['priors_count', 'age', 'c_charge_degree_F']\n",
      "  Calculating CS for feature 'priors_count'...\n",
      "    CS(priors_count) = 0.9998\n",
      "  Calculating CS for feature 'age'...\n",
      "    CS(age) = 0.8973\n",
      "  Calculating CS for feature 'c_charge_degree_F'...\n",
      "    CS(c_charge_degree_F) = 1.0000\n",
      "  Overall CS = 0.9657\n",
      "Radar chart saved to ../results/compas/visualizations/ctf_radar_causal_rf.png\n",
      "\n",
      "Calculating metrics for model: causal_xgb\n",
      "Transparency Entropy Calculation:\n",
      "  H(M|O): 0.3538\n",
      "  H(M|I,O): 0.2721\n",
      "  TE: 0.0816\n",
      "Calculating CS for features: ['priors_count', 'age', 'c_charge_degree_F']\n",
      "  Calculating CS for feature 'priors_count'...\n",
      "    CS(priors_count) = 0.9670\n",
      "  Calculating CS for feature 'age'...\n",
      "    CS(age) = 0.9108\n",
      "  Calculating CS for feature 'c_charge_degree_F'...\n",
      "    CS(c_charge_degree_F) = 0.9904\n",
      "  Overall CS = 0.9561\n",
      "Radar chart saved to ../results/compas/visualizations/ctf_radar_causal_xgb.png\n",
      "\n",
      "Calculating metrics for model: full_lr\n",
      "Transparency Entropy Calculation:\n",
      "  H(M|O): 0.4727\n",
      "  H(M|I,O): 0.2626\n",
      "  TE: 0.2101\n",
      "Calculating CS for features: ['priors_count', 'c_charge_degree_M', 'c_charge_degree_F', 'sex_Male', 'sex_Female']\n",
      "  Calculating CS for feature 'priors_count'...\n",
      "    CS(priors_count) = 0.9921\n",
      "  Calculating CS for feature 'c_charge_degree_M'...\n",
      "    CS(c_charge_degree_M) = 0.9993\n",
      "  Calculating CS for feature 'c_charge_degree_F'...\n",
      "    CS(c_charge_degree_F) = 0.9994\n",
      "  Calculating CS for feature 'sex_Male'...\n",
      "    CS(sex_Male) = 0.9995\n",
      "  Calculating CS for feature 'sex_Female'...\n",
      "    CS(sex_Female) = 0.9995\n",
      "  Overall CS = 0.9980\n",
      "Radar chart saved to ../results/compas/visualizations/ctf_radar_full_lr.png\n",
      "\n",
      "Calculating metrics for model: full_rf\n",
      "Transparency Entropy Calculation:\n",
      "  H(M|O): 0.3198\n",
      "  H(M|I,O): 0.1777\n",
      "  TE: 0.1422\n",
      "Calculating CS for features: ['age', 'priors_count', 'c_charge_degree_F', 'race_Caucasian', 'sex_Female']\n",
      "  Calculating CS for feature 'age'...\n",
      "    CS(age) = 0.9396\n",
      "  Calculating CS for feature 'priors_count'...\n",
      "    CS(priors_count) = 0.9995\n",
      "  Calculating CS for feature 'c_charge_degree_F'...\n",
      "    CS(c_charge_degree_F) = 1.0000\n",
      "  Calculating CS for feature 'race_Caucasian'...\n",
      "    CS(race_Caucasian) = 1.0000\n",
      "  Calculating CS for feature 'sex_Female'...\n",
      "    CS(sex_Female) = 1.0000\n",
      "  Overall CS = 0.9878\n",
      "Radar chart saved to ../results/compas/visualizations/ctf_radar_full_rf.png\n",
      "\n",
      "Calculating metrics for model: full_xgb\n",
      "Transparency Entropy Calculation:\n",
      "  H(M|O): 0.3381\n",
      "  H(M|I,O): 0.1878\n",
      "  TE: 0.1503\n",
      "Calculating CS for features: ['priors_count', 'c_charge_degree_F', 'race_African-American', 'sex_Female', 'age']\n",
      "  Calculating CS for feature 'priors_count'...\n",
      "    CS(priors_count) = 0.9672\n",
      "  Calculating CS for feature 'c_charge_degree_F'...\n",
      "    CS(c_charge_degree_F) = 0.9910\n",
      "  Calculating CS for feature 'race_African-American'...\n",
      "    CS(race_African-American) = 0.9841\n",
      "  Calculating CS for feature 'sex_Female'...\n",
      "    CS(sex_Female) = 0.9923\n",
      "  Calculating CS for feature 'age'...\n",
      "    CS(age) = 0.9154\n",
      "  Overall CS = 0.9700\n",
      "Radar chart saved to ../results/compas/visualizations/ctf_radar_full_xgb.png\n",
      "Model comparison chart saved to ../results/compas/visualizations/model_comparison.png\n",
      "CTF metrics comparison chart saved to ../results/compas/visualizations/ctf_metrics_comparison.png\n",
      "Metrics saved to output directory\n",
      "Transparency metrics calculated\n"
     ]
    }
   ],
   "source": [
    "# Calculate transparency metrics\n",
    "metrics = ctf.calculate_transparency_metrics()\n",
    "print(\"Transparency metrics calculated\")"
   ]
  },
  {
   "cell_type": "markdown",
   "source": "## Fairness Analysis\n\nNow that we have our models trained and transparency metrics calculated, we'll analyze the fairness implications of the models. We'll focus on:\n\n1. Splitting the test data by race to evaluate disparities\n2. Calculating fairness metrics for each model and demographic group\n3. Visualizing the fairness-performance tradeoff\n4. Evaluating counterfactual stability across racial groups\n5. Identifying causal pathways that contribute to bias",
   "metadata": {}
  },
  {
   "cell_type": "code",
   "execution_count": 31,
   "id": "d0ae58c6",
   "metadata": {},
   "outputs": [
    {
     "name": "stdout",
     "output_type": "stream",
     "text": [
      "CTF report generated at ../results/compas/report/ctf_report.md\n",
      "CTF report generated at ../results/compas/report/ctf_report.md\n"
     ]
    }
   ],
   "source": [
    "# Generate report\n",
    "report_path = ctf.generate_report()\n",
    "print(f\"CTF report generated at {report_path}\")"
   ]
  },
  {
   "cell_type": "code",
   "execution_count": 32,
   "id": "f3fff8d7",
   "metadata": {},
   "outputs": [],
   "source": [
    "# Split test data by race\n",
    "X_test, y_test = ctf.test_data"
   ]
  },
  {
   "cell_type": "code",
   "execution_count": 34,
   "id": "73f19290",
   "metadata": {},
   "outputs": [],
   "source": [
    "# Add race information back to test data\n",
    "X_test_with_race = X_test.copy()\n",
    "X_test_with_race['two_year_recid'] = y_test"
   ]
  },
  {
   "cell_type": "markdown",
   "source": "### Fairness Metrics Calculation\n\nFor each model, we'll calculate several key fairness metrics across racial groups:\n\n1. **Accuracy Gap**: Difference in model accuracy between racial groups\n2. **Prediction Rate Gap**: Difference in the rate of positive predictions (recidivism)\n3. **True Positive Rate (TPR) Gap**: Difference in the rate of correctly identified recidivists\n4. **False Positive Rate (FPR) Gap**: Difference in the rate of incorrectly predicted recidivists\n\nThese metrics help us evaluate different aspects of algorithmic fairness.",
   "metadata": {}
  },
  {
   "cell_type": "code",
   "execution_count": 36,
   "id": "3b4a29e9",
   "metadata": {},
   "outputs": [
    {
     "name": "stdout",
     "output_type": "stream",
     "text": [
      "Test data: 109 African American, 91 Caucasian\n"
     ]
    }
   ],
   "source": [
    "# Split by race\n",
    "if 'race_African-American' in X_test.columns and 'race_Caucasian' in X_test.columns:\n",
    "    X_test_african_american = X_test[X_test['race_African-American'] == 1]\n",
    "    y_test_african_american = y_test[X_test['race_African-American'] == 1]\n",
    "    \n",
    "    X_test_caucasian = X_test[X_test['race_Caucasian'] == 1]\n",
    "    y_test_caucasian = y_test[X_test['race_Caucasian'] == 1]\n",
    "    \n",
    "    print(f\"Test data: {len(X_test_african_american)} African American, {len(X_test_caucasian)} Caucasian\")"
   ]
  },
  {
   "cell_type": "code",
   "execution_count": 37,
   "id": "bb530fc8",
   "metadata": {},
   "outputs": [
    {
     "name": "stdout",
     "output_type": "stream",
     "text": [
      "\n",
      "Calculating fairness metrics for causal_lr...\n",
      "  Accuracy: African American = 0.8624, Caucasian = 0.9560, Gap = 0.0937\n",
      "  Prediction Rate: African American = 0.0367, Caucasian = 0.0110, Gap = 0.0257\n",
      "  TPR: African American = 0.1765, Caucasian = 0.0000, Gap = 0.1765\n",
      "  FPR: African American = 0.0109, Caucasian = 0.0114, Gap = 0.0005\n",
      "\n",
      "Calculating fairness metrics for causal_rf...\n",
      "  Accuracy: African American = 0.7890, Caucasian = 0.8462, Gap = 0.0572\n",
      "  Prediction Rate: African American = 0.1284, Caucasian = 0.1429, Gap = 0.0144\n",
      "  TPR: African American = 0.2353, Caucasian = 0.3333, Gap = 0.0980\n",
      "  FPR: African American = 0.1087, Caucasian = 0.1364, Gap = 0.0277\n",
      "\n",
      "Calculating fairness metrics for causal_xgb...\n",
      "  Accuracy: African American = 0.8165, Caucasian = 0.8901, Gap = 0.0736\n",
      "  Prediction Rate: African American = 0.0826, Caucasian = 0.0989, Gap = 0.0163\n",
      "  TPR: African American = 0.1765, Caucasian = 0.3333, Gap = 0.1569\n",
      "  FPR: African American = 0.0652, Caucasian = 0.0909, Gap = 0.0257\n",
      "\n",
      "Calculating fairness metrics for full_lr...\n",
      "  Accuracy: African American = 0.8532, Caucasian = 0.9560, Gap = 0.1028\n",
      "  Prediction Rate: African American = 0.0459, Caucasian = 0.0110, Gap = 0.0349\n",
      "  TPR: African American = 0.1765, Caucasian = 0.0000, Gap = 0.1765\n",
      "  FPR: African American = 0.0217, Caucasian = 0.0114, Gap = 0.0104\n",
      "\n",
      "Calculating fairness metrics for full_rf...\n",
      "  Accuracy: African American = 0.7982, Caucasian = 0.8901, Gap = 0.0919\n",
      "  Prediction Rate: African American = 0.0826, Caucasian = 0.0769, Gap = 0.0056\n",
      "  TPR: African American = 0.1176, Caucasian = 0.0000, Gap = 0.1176\n",
      "  FPR: African American = 0.0761, Caucasian = 0.0795, Gap = 0.0035\n",
      "\n",
      "Calculating fairness metrics for full_xgb...\n",
      "  Accuracy: African American = 0.8532, Caucasian = 0.9011, Gap = 0.0479\n",
      "  Prediction Rate: African American = 0.0826, Caucasian = 0.0879, Gap = 0.0053\n",
      "  TPR: African American = 0.2941, Caucasian = 0.3333, Gap = 0.0392\n",
      "  FPR: African American = 0.0435, Caucasian = 0.0795, Gap = 0.0361\n"
     ]
    }
   ],
   "source": [
    "# Calculate fairness metrics for each model\n",
    "fairness_metrics = {}\n",
    "\n",
    "for model_name, model in ctf.models.items():\n",
    "    print(f\"\\nCalculating fairness metrics for {model_name}...\")\n",
    "    \n",
    "    # Get features used by this model\n",
    "    if model_name.startswith('causal_'):\n",
    "        # Get causal parents\n",
    "        parents = list(ctf.causal_graph.predecessors(ctf.target_col))\n",
    "        features = [p for p in parents if p in X_test.columns]\n",
    "    else:\n",
    "        # Use all features\n",
    "        features = X_test.columns.tolist()\n",
    "    \n",
    "    # Calculate predictions for each group\n",
    "    if 'race_African-American' in X_test.columns and 'race_Caucasian' in X_test.columns:\n",
    "        # African American predictions\n",
    "        X_aa = X_test_african_american[features]\n",
    "        y_aa_pred = model.predict(X_aa)\n",
    "        y_aa_pred_proba = model.predict_proba(X_aa)[:, 1] if hasattr(model, 'predict_proba') else None\n",
    "        \n",
    "        # Caucasian predictions\n",
    "        X_c = X_test_caucasian[features]\n",
    "        y_c_pred = model.predict(X_c)\n",
    "        y_c_pred_proba = model.predict_proba(X_c)[:, 1] if hasattr(model, 'predict_proba') else None\n",
    "        \n",
    "        # Calculate metrics\n",
    "        from sklearn.metrics import accuracy_score, roc_auc_score, f1_score\n",
    "        \n",
    "        # Accuracy by race\n",
    "        aa_accuracy = accuracy_score(y_test_african_american, y_aa_pred)\n",
    "        c_accuracy = accuracy_score(y_test_caucasian, y_c_pred)\n",
    "        accuracy_gap = abs(aa_accuracy - c_accuracy)\n",
    "        \n",
    "        # Prediction rates by race\n",
    "        aa_pred_rate = np.mean(y_aa_pred)\n",
    "        c_pred_rate = np.mean(y_c_pred)\n",
    "        pred_rate_gap = abs(aa_pred_rate - c_pred_rate)\n",
    "        \n",
    "        # True positive rates\n",
    "        aa_tpr = np.mean(y_aa_pred[y_test_african_american == 1]) if sum(y_test_african_american) > 0 else 0\n",
    "        c_tpr = np.mean(y_c_pred[y_test_caucasian == 1]) if sum(y_test_caucasian) > 0 else 0\n",
    "        tpr_gap = abs(aa_tpr - c_tpr)\n",
    "        \n",
    "        # False positive rates\n",
    "        aa_fpr = np.mean(y_aa_pred[y_test_african_american == 0]) if sum(y_test_african_american == 0) > 0 else 0\n",
    "        c_fpr = np.mean(y_c_pred[y_test_caucasian == 0]) if sum(y_test_caucasian == 0) > 0 else 0\n",
    "        fpr_gap = abs(aa_fpr - c_fpr)\n",
    "        \n",
    "        # AUC by race\n",
    "        if y_aa_pred_proba is not None and y_c_pred_proba is not None:\n",
    "            try:\n",
    "                aa_auc = roc_auc_score(y_test_african_american, y_aa_pred_proba)\n",
    "                c_auc = roc_auc_score(y_test_caucasian, y_c_pred_proba)\n",
    "                auc_gap = abs(aa_auc - c_auc)\n",
    "            except:\n",
    "                aa_auc, c_auc, auc_gap = 0, 0, 0\n",
    "        else:\n",
    "            aa_auc, c_auc, auc_gap = 0, 0, 0\n",
    "        \n",
    "        # Store metrics\n",
    "        fairness_metrics[model_name] = {\n",
    "            'african_american_accuracy': aa_accuracy,\n",
    "            'caucasian_accuracy': c_accuracy,\n",
    "            'accuracy_gap': accuracy_gap,\n",
    "            \n",
    "            'african_american_pred_rate': aa_pred_rate,\n",
    "            'caucasian_pred_rate': c_pred_rate,\n",
    "            'pred_rate_gap': pred_rate_gap,\n",
    "            \n",
    "            'african_american_tpr': aa_tpr,\n",
    "            'caucasian_tpr': c_tpr,\n",
    "            'tpr_gap': tpr_gap,\n",
    "            \n",
    "            'african_american_fpr': aa_fpr,\n",
    "            'caucasian_fpr': c_fpr,\n",
    "            'fpr_gap': fpr_gap,\n",
    "            \n",
    "            'african_american_auc': aa_auc,\n",
    "            'caucasian_auc': c_auc,\n",
    "            'auc_gap': auc_gap\n",
    "        }\n",
    "        \n",
    "        # Print summary\n",
    "        print(f\"  Accuracy: African American = {aa_accuracy:.4f}, Caucasian = {c_accuracy:.4f}, Gap = {accuracy_gap:.4f}\")\n",
    "        print(f\"  Prediction Rate: African American = {aa_pred_rate:.4f}, Caucasian = {c_pred_rate:.4f}, Gap = {pred_rate_gap:.4f}\")\n",
    "        print(f\"  TPR: African American = {aa_tpr:.4f}, Caucasian = {c_tpr:.4f}, Gap = {tpr_gap:.4f}\")\n",
    "        print(f\"  FPR: African American = {aa_fpr:.4f}, Caucasian = {c_fpr:.4f}, Gap = {fpr_gap:.4f}\")"
   ]
  },
  {
   "cell_type": "code",
   "execution_count": 38,
   "id": "e78fe58d",
   "metadata": {},
   "outputs": [
    {
     "data": {
      "text/plain": [
       "<Figure size 1200x800 with 0 Axes>"
      ]
     },
     "execution_count": 38,
     "metadata": {},
     "output_type": "execute_result"
    },
    {
     "data": {
      "text/plain": [
       "<Figure size 1200x800 with 0 Axes>"
      ]
     },
     "metadata": {},
     "output_type": "display_data"
    }
   ],
   "source": [
    "# Visualize fairness metrics\n",
    "plt.figure(figsize=(12, 8))"
   ]
  },
  {
   "cell_type": "code",
   "execution_count": 39,
   "id": "a10e6a49",
   "metadata": {},
   "outputs": [],
   "source": [
    "# Prepare data for visualization\n",
    "model_names = list(fairness_metrics.keys())\n",
    "fpr_gaps = [fairness_metrics[m]['fpr_gap'] for m in model_names]\n",
    "tpr_gaps = [fairness_metrics[m]['tpr_gap'] for m in model_names]\n",
    "pred_rate_gaps = [fairness_metrics[m]['pred_rate_gap'] for m in model_names]\n",
    "accuracy_gaps = [fairness_metrics[m]['accuracy_gap'] for m in model_names]"
   ]
  },
  {
   "cell_type": "code",
   "execution_count": 40,
   "id": "d1191c4e",
   "metadata": {},
   "outputs": [],
   "source": [
    "# Model types\n",
    "model_types = ['Causal' if m.startswith('causal_') else 'Full' for m in model_names]"
   ]
  },
  {
   "cell_type": "code",
   "execution_count": 41,
   "id": "e33ba144",
   "metadata": {},
   "outputs": [],
   "source": [
    "# Create DataFrame\n",
    "fairness_df = pd.DataFrame({\n",
    "    'Model': model_names,\n",
    "    'FPR Gap': fpr_gaps,\n",
    "    'TPR Gap': tpr_gaps,\n",
    "    'Prediction Rate Gap': pred_rate_gaps,\n",
    "    'Accuracy Gap': accuracy_gaps,\n",
    "    'Type': model_types\n",
    "})"
   ]
  },
  {
   "cell_type": "code",
   "execution_count": 42,
   "id": "a129f4b6",
   "metadata": {},
   "outputs": [
    {
     "data": {
      "image/png": "[encoded data removed]",
      "text/plain": [
       "<Figure size 640x480 with 1 Axes>"
      ]
     },
     "metadata": {},
     "output_type": "display_data"
    }
   ],
   "source": [
    "# Plot\n",
    "bar_width = 0.2\n",
    "index = np.arange(len(model_names))\n",
    "\n",
    "plt.bar(index, fpr_gaps, bar_width, label='FPR Gap', alpha=0.8)\n",
    "plt.bar(index + bar_width, tpr_gaps, bar_width, label='TPR Gap', alpha=0.8)\n",
    "plt.bar(index + 2*bar_width, pred_rate_gaps, bar_width, label='Pred Rate Gap', alpha=0.8)\n",
    "plt.bar(index + 3*bar_width, accuracy_gaps, bar_width, label='Accuracy Gap', alpha=0.8)\n",
    "\n",
    "plt.xlabel('Model')\n",
    "plt.ylabel('Gap (lower is better)')\n",
    "plt.title('Fairness Metrics by Model')\n",
    "plt.xticks(index + 1.5*bar_width, model_names, rotation=45, ha='right')\n",
    "plt.legend()\n",
    "plt.grid(axis='y', linestyle='--', alpha=0.7)\n",
    "plt.tight_layout()\n",
    "plt.show()"
   ]
  },
  {
   "cell_type": "code",
   "execution_count": 43,
   "id": "1ff697ee",
   "metadata": {},
   "outputs": [
    {
     "data": {
      "text/plain": [
       "<Figure size 1000x600 with 0 Axes>"
      ]
     },
     "execution_count": 43,
     "metadata": {},
     "output_type": "execute_result"
    },
    {
     "data": {
      "text/plain": [
       "<Figure size 1000x600 with 0 Axes>"
      ]
     },
     "metadata": {},
     "output_type": "display_data"
    }
   ],
   "source": [
    "# Create fairness vs. performance plot\n",
    "plt.figure(figsize=(10, 6))"
   ]
  },
  {
   "cell_type": "code",
   "execution_count": 44,
   "id": "20930497",
   "metadata": {},
   "outputs": [],
   "source": [
    "# Combine fairness and performance data\n",
    "model_performance = pd.DataFrame({\n",
    "    'Model': list(ctf.model_performance.keys()),\n",
    "    'AUC': [ctf.model_performance[m]['auc'] for m in ctf.model_performance.keys()],\n",
    "    'Accuracy': [ctf.model_performance[m]['accuracy'] for m in ctf.model_performance.keys()]\n",
    "})\n",
    "\n",
    "fairness_summary = pd.DataFrame({\n",
    "    'Model': list(fairness_metrics.keys()),\n",
    "    'FPR Gap': [fairness_metrics[m]['fpr_gap'] for m in fairness_metrics.keys()],\n",
    "    'Type': ['Causal' if m.startswith('causal_') else 'Full' for m in fairness_metrics.keys()]\n",
    "})\n",
    "\n",
    "combined_df = pd.merge(model_performance, fairness_summary, on='Model')"
   ]
  },
  {
   "cell_type": "markdown",
   "source": "### Fairness-Performance Tradeoff\n\nNext, we'll visualize the tradeoff between model performance (AUC) and fairness (measured by FPR Gap). \nThis helps us identify which models provide the best balance of predictive power and fairness across racial groups.",
   "metadata": {}
  },
  {
   "cell_type": "code",
   "execution_count": 45,
   "id": "01cb8c8d",
   "metadata": {},
   "outputs": [
    {
     "data": {
      "text/plain": [
       "<Axes: xlabel='AUC', ylabel='FPR Gap'>"
      ]
     },
     "execution_count": 45,
     "metadata": {},
     "output_type": "execute_result"
    },
    {
     "data": {
      "image/png": "[encoded data removed]",
      "text/plain": [
       "<Figure size 640x480 with 1 Axes>"
      ]
     },
     "metadata": {},
     "output_type": "display_data"
    }
   ],
   "source": [
    "# Create scatter plot: AUC vs. FPR Gap\n",
    "sns.scatterplot(data=combined_df, x='AUC', y='FPR Gap', hue='Type', style='Type',\n",
    "                s=100, palette=['#3366cc', '#cc3366'])"
   ]
  },
  {
   "cell_type": "code",
   "execution_count": 46,
   "id": "8470e296",
   "metadata": {},
   "outputs": [
    {
     "data": {
      "image/png": "[encoded data removed]",
      "text/plain": [
       "<Figure size 640x480 with 1 Axes>"
      ]
     },
     "metadata": {},
     "output_type": "display_data"
    }
   ],
   "source": [
    "# Add labels\n",
    "for i, row in combined_df.iterrows():\n",
    "    plt.text(row['AUC'] + 0.01, row['FPR Gap'] + 0.01, row['Model'], fontsize=8)\n",
    "\n",
    "plt.title('Performance vs. Fairness Tradeoff')\n",
    "plt.xlabel('AUC (performance)')\n",
    "plt.ylabel('FPR Gap (lower is better for fairness)')\n",
    "plt.grid(alpha=0.3)\n",
    "plt.tight_layout()\n",
    "plt.show()"
   ]
  },
  {
   "cell_type": "code",
   "execution_count": 47,
   "id": "bd8a42f2",
   "metadata": {},
   "outputs": [
    {
     "name": "stdout",
     "output_type": "stream",
     "text": [
      "\n",
      "Calculating CS by race for causal_lr...\n",
      "Calculating CS for features: ['priors_count', 'age', 'c_charge_degree_F']\n",
      "  Calculating CS for feature 'priors_count'...\n",
      "    CS(priors_count) = 0.9918\n",
      "  Calculating CS for feature 'age'...\n",
      "    CS(age) = 0.9980\n",
      "  Calculating CS for feature 'c_charge_degree_F'...\n",
      "    CS(c_charge_degree_F) = 0.9987\n",
      "  Overall CS = 0.9962\n",
      "Calculating CS for features: ['priors_count', 'age', 'c_charge_degree_F']\n",
      "  Calculating CS for feature 'priors_count'...\n",
      "    CS(priors_count) = 0.9928\n",
      "  Calculating CS for feature 'age'...\n",
      "    CS(age) = 0.9975\n",
      "  Calculating CS for feature 'c_charge_degree_F'...\n",
      "    CS(c_charge_degree_F) = 0.9987\n",
      "  Overall CS = 0.9963\n",
      "  CS: African American = 0.9962, Caucasian = 0.9963\n",
      "  Gap: 0.0001\n",
      "\n",
      "Calculating CS by race for causal_rf...\n",
      "Calculating CS for features: ['priors_count', 'age', 'c_charge_degree_F']\n",
      "  Calculating CS for feature 'priors_count'...\n",
      "    CS(priors_count) = 0.9993\n",
      "  Calculating CS for feature 'age'...\n",
      "    CS(age) = 0.8959\n",
      "  Calculating CS for feature 'c_charge_degree_F'...\n",
      "    CS(c_charge_degree_F) = 1.0000\n",
      "  Overall CS = 0.9651\n",
      "Calculating CS for features: ['priors_count', 'age', 'c_charge_degree_F']\n",
      "  Calculating CS for feature 'priors_count'...\n",
      "    CS(priors_count) = 0.9999\n",
      "  Calculating CS for feature 'age'...\n",
      "    CS(age) = 0.8902\n",
      "  Calculating CS for feature 'c_charge_degree_F'...\n",
      "    CS(c_charge_degree_F) = 1.0000\n",
      "  Overall CS = 0.9633\n",
      "  CS: African American = 0.9651, Caucasian = 0.9633\n",
      "  Gap: 0.0017\n",
      "\n",
      "Calculating CS by race for causal_xgb...\n",
      "Calculating CS for features: ['priors_count', 'age', 'c_charge_degree_F']\n",
      "  Calculating CS for feature 'priors_count'...\n",
      "    CS(priors_count) = 0.9622\n",
      "  Calculating CS for feature 'age'...\n",
      "    CS(age) = 0.9054\n",
      "  Calculating CS for feature 'c_charge_degree_F'...\n",
      "    CS(c_charge_degree_F) = 0.9868\n",
      "  Overall CS = 0.9515\n",
      "Calculating CS for features: ['priors_count', 'age', 'c_charge_degree_F']\n",
      "  Calculating CS for feature 'priors_count'...\n",
      "    CS(priors_count) = 0.9653\n",
      "  Calculating CS for feature 'age'...\n",
      "    CS(age) = 0.9111\n",
      "  Calculating CS for feature 'c_charge_degree_F'...\n",
      "    CS(c_charge_degree_F) = 0.9924\n",
      "  Overall CS = 0.9563\n",
      "  CS: African American = 0.9515, Caucasian = 0.9563\n",
      "  Gap: 0.0048\n",
      "\n",
      "Calculating CS by race for full_lr...\n",
      "Calculating CS for features: ['priors_count', 'c_charge_degree_M', 'c_charge_degree_F', 'sex_Male', 'sex_Female']\n",
      "  Calculating CS for feature 'priors_count'...\n",
      "    CS(priors_count) = 0.9916\n",
      "  Calculating CS for feature 'c_charge_degree_M'...\n",
      "    CS(c_charge_degree_M) = 0.9993\n",
      "  Calculating CS for feature 'c_charge_degree_F'...\n",
      "    CS(c_charge_degree_F) = 0.9993\n",
      "  Calculating CS for feature 'sex_Male'...\n",
      "    CS(sex_Male) = 0.9995\n",
      "  Calculating CS for feature 'sex_Female'...\n",
      "    CS(sex_Female) = 0.9995\n",
      "  Overall CS = 0.9979\n",
      "Calculating CS for features: ['priors_count', 'c_charge_degree_M', 'c_charge_degree_F', 'sex_Male', 'sex_Female']\n",
      "  Calculating CS for feature 'priors_count'...\n",
      "    CS(priors_count) = 0.9931\n",
      "  Calculating CS for feature 'c_charge_degree_M'...\n",
      "    CS(c_charge_degree_M) = 0.9993\n",
      "  Calculating CS for feature 'c_charge_degree_F'...\n",
      "    CS(c_charge_degree_F) = 0.9994\n",
      "  Calculating CS for feature 'sex_Male'...\n",
      "    CS(sex_Male) = 0.9996\n",
      "  Calculating CS for feature 'sex_Female'...\n",
      "    CS(sex_Female) = 0.9996\n",
      "  Overall CS = 0.9982\n",
      "  CS: African American = 0.9979, Caucasian = 0.9982\n",
      "  Gap: 0.0003\n",
      "\n",
      "Calculating CS by race for full_rf...\n",
      "Calculating CS for features: ['age', 'priors_count', 'c_charge_degree_F', 'race_Caucasian', 'sex_Female']\n",
      "  Calculating CS for feature 'age'...\n",
      "    CS(age) = 0.9269\n",
      "  Calculating CS for feature 'priors_count'...\n",
      "    CS(priors_count) = 0.9997\n",
      "  Calculating CS for feature 'c_charge_degree_F'...\n",
      "    CS(c_charge_degree_F) = 1.0000\n",
      "  Calculating CS for feature 'race_Caucasian'...\n",
      "    CS(race_Caucasian) = 1.0000\n",
      "  Calculating CS for feature 'sex_Female'...\n",
      "    CS(sex_Female) = 1.0000\n",
      "  Overall CS = 0.9853\n",
      "Calculating CS for features: ['age', 'priors_count', 'c_charge_degree_F', 'race_Caucasian', 'sex_Female']\n",
      "  Calculating CS for feature 'age'...\n",
      "    CS(age) = 0.9365\n",
      "  Calculating CS for feature 'priors_count'...\n",
      "    CS(priors_count) = 0.9995\n",
      "  Calculating CS for feature 'c_charge_degree_F'...\n",
      "    CS(c_charge_degree_F) = 1.0000\n",
      "  Calculating CS for feature 'race_Caucasian'...\n",
      "    CS(race_Caucasian) = 1.0000\n",
      "  Calculating CS for feature 'sex_Female'...\n",
      "    CS(sex_Female) = 1.0000\n",
      "  Overall CS = 0.9872\n",
      "  CS: African American = 0.9853, Caucasian = 0.9872\n",
      "  Gap: 0.0019\n",
      "\n",
      "Calculating CS by race for full_xgb...\n",
      "Calculating CS for features: ['priors_count', 'c_charge_degree_F', 'race_African-American', 'sex_Female', 'age']\n",
      "  Calculating CS for feature 'priors_count'...\n",
      "    CS(priors_count) = 0.9584\n",
      "  Calculating CS for feature 'c_charge_degree_F'...\n",
      "    CS(c_charge_degree_F) = 0.9885\n",
      "  Calculating CS for feature 'race_African-American'...\n",
      "    CS(race_African-American) = 1.0000\n",
      "  Calculating CS for feature 'sex_Female'...\n",
      "    CS(sex_Female) = 0.9911\n",
      "  Calculating CS for feature 'age'...\n",
      "    CS(age) = 0.9201\n",
      "  Overall CS = 0.9716\n",
      "Calculating CS for features: ['priors_count', 'c_charge_degree_F', 'race_African-American', 'sex_Female', 'age']\n",
      "  Calculating CS for feature 'priors_count'...\n",
      "    CS(priors_count) = 0.9702\n",
      "  Calculating CS for feature 'c_charge_degree_F'...\n",
      "    CS(c_charge_degree_F) = 0.9910\n",
      "  Calculating CS for feature 'race_African-American'...\n",
      "    CS(race_African-American) = 1.0000\n",
      "  Calculating CS for feature 'sex_Female'...\n",
      "    CS(sex_Female) = 0.9921\n",
      "  Calculating CS for feature 'age'...\n",
      "    CS(age) = 0.9067\n",
      "  Overall CS = 0.9720\n",
      "  CS: African American = 0.9716, Caucasian = 0.9720\n",
      "  Gap: 0.0004\n"
     ]
    }
   ],
   "source": [
    "# Calculate CS separately for each race\n",
    "cs_by_race = {}\n",
    "\n",
    "for model_name, model in ctf.models.items():\n",
    "    print(f\"\\nCalculating CS by race for {model_name}...\")\n",
    "    \n",
    "    # Get features used by this model\n",
    "    if model_name.startswith('causal_'):\n",
    "        # Get causal parents\n",
    "        parents = list(ctf.causal_graph.predecessors(ctf.target_col))\n",
    "        features = [p for p in parents if p in X_test.columns]\n",
    "    else:\n",
    "        # Use all features\n",
    "        features = X_test.columns.tolist()\n",
    "    \n",
    "    if 'race_African-American' in X_test.columns and 'race_Caucasian' in X_test.columns:\n",
    "        # Calculate CS for African American\n",
    "        if hasattr(model, 'predict_proba'):\n",
    "            # Initialize TransparencyMetrics for African American\n",
    "            tm_aa = TransparencyMetrics(\n",
    "                causal_graph=ctf.causal_graph,\n",
    "                data=df[df['race_African-American'] == 1],\n",
    "                target_col=ctf.target_col,\n",
    "                output_dir=os.path.join(ctf.output_dir, 'fairness')\n",
    "            )\n",
    "            \n",
    "            # Calculate CS\n",
    "            cs_aa = tm_aa.calculate_cs(model, X_test_african_american[features])\n",
    "            \n",
    "            # Calculate CS for Caucasian\n",
    "            tm_c = TransparencyMetrics(\n",
    "                causal_graph=ctf.causal_graph,\n",
    "                data=df[df['race_Caucasian'] == 1],\n",
    "                target_col=ctf.target_col,\n",
    "                output_dir=os.path.join(ctf.output_dir, 'fairness')\n",
    "            )\n",
    "            \n",
    "            cs_c = tm_c.calculate_cs(model, X_test_caucasian[features])\n",
    "            \n",
    "            # Store results\n",
    "            cs_by_race[model_name] = {\n",
    "                'african_american': cs_aa.get('overall', 0),\n",
    "                'caucasian': cs_c.get('overall', 0),\n",
    "                'gap': abs(cs_aa.get('overall', 0) - cs_c.get('overall', 0))\n",
    "            }\n",
    "            \n",
    "            # Print results\n",
    "            print(f\"  CS: African American = {cs_aa.get('overall', 0):.4f}, Caucasian = {cs_c.get('overall', 0):.4f}\")\n",
    "            print(f\"  Gap: {cs_by_race[model_name]['gap']:.4f}\")"
   ]
  },
  {
   "cell_type": "code",
   "execution_count": 48,
   "id": "201e21c9",
   "metadata": {},
   "outputs": [
    {
     "data": {
      "text/plain": [
       "<Figure size 1000x600 with 0 Axes>"
      ]
     },
     "execution_count": 48,
     "metadata": {},
     "output_type": "execute_result"
    },
    {
     "data": {
      "text/plain": [
       "<Figure size 1000x600 with 0 Axes>"
      ]
     },
     "metadata": {},
     "output_type": "display_data"
    }
   ],
   "source": [
    "# Visualize CS by race\n",
    "plt.figure(figsize=(10, 6))"
   ]
  },
  {
   "cell_type": "code",
   "execution_count": 49,
   "id": "e3093c86",
   "metadata": {},
   "outputs": [],
   "source": [
    "# Prepare data\n",
    "model_names = list(cs_by_race.keys())\n",
    "cs_aa = [cs_by_race[m]['african_american'] for m in model_names]\n",
    "cs_c = [cs_by_race[m]['caucasian'] for m in model_names]\n",
    "cs_gaps = [cs_by_race[m]['gap'] for m in model_names]\n",
    "model_types = ['Causal' if m.startswith('causal_') else 'Full' for m in model_names]"
   ]
  },
  {
   "cell_type": "markdown",
   "source": "### Counterfactual Stability Analysis by Race\n\nCounterfactual Stability (CS) measures how consistent a model's predictions are when inputs are slightly perturbed.\nWe'll analyze CS separately for each racial group to assess whether the models are equally robust across demographics.",
   "metadata": {}
  },
  {
   "cell_type": "code",
   "execution_count": 50,
   "id": "90b1bd0f",
   "metadata": {},
   "outputs": [],
   "source": [
    "# Create DataFrame\n",
    "cs_df = pd.DataFrame({\n",
    "    'Model': model_names,\n",
    "    'African American CS': cs_aa,\n",
    "    'Caucasian CS': cs_c,\n",
    "    'CS Gap': cs_gaps,\n",
    "    'Type': model_types\n",
    "})"
   ]
  },
  {
   "cell_type": "code",
   "execution_count": 55,
   "id": "c108a0ee",
   "metadata": {},
   "outputs": [
    {
     "data": {
      "text/plain": [
       "<BarContainer object of 6 artists>"
      ]
     },
     "execution_count": 55,
     "metadata": {},
     "output_type": "execute_result"
    },
    {
     "data": {
      "image/png": "[encoded data removed]",
      "text/plain": [
       "<Figure size 640x480 with 1 Axes>"
      ]
     },
     "metadata": {},
     "output_type": "display_data"
    }
   ],
   "source": [
    "# Plot\n",
    "bar_width = 0.3\n",
    "index = np.arange(len(model_names))\n",
    "\n",
    "plt.bar(index, cs_aa, bar_width, label='African American CS', color='#3366cc')\n",
    "plt.bar(index + bar_width, cs_c, bar_width, label='Caucasian CS', color='#cc3366')"
   ]
  },
  {
   "cell_type": "code",
   "execution_count": 62,
   "id": "505666c0",
   "metadata": {},
   "outputs": [
    {
     "data": {
      "text/plain": [
       "(0.0, 0.00575339192524571)"
      ]
     },
     "execution_count": 62,
     "metadata": {},
     "output_type": "execute_result"
    },
    {
     "data": {
      "image/png": "[encoded data removed]",
      "text/plain": [
       "<Figure size 640x480 with 2 Axes>"
      ]
     },
     "metadata": {},
     "output_type": "display_data"
    }
   ],
   "source": [
    "# Add line for gaps\n",
    "ax2 = plt.twinx()\n",
    "ax2.plot(index + bar_width/2, cs_gaps, 'ko-', label='CS Gap')\n",
    "ax2.set_ylabel('CS Gap (lower is better)')\n",
    "ax2.set_ylim(0, max(cs_gaps) * 1.2)"
   ]
  },
  {
   "cell_type": "markdown",
   "source": "### Causal Path Analysis\n\nNow we'll identify and analyze causal pathways from race to recidivism prediction.\nThis helps us understand how racial bias may propagate through the model via mediating variables.",
   "metadata": {}
  },
  {
   "cell_type": "code",
   "execution_count": 68,
   "id": "154110ac",
   "metadata": {},
   "outputs": [
    {
     "name": "stderr",
     "output_type": "stream",
     "text": [
      "/var/folders/0b/61wsqql55xn0bqkhtxynpjwm0000gn/T/ipykernel_82374/23156471.py:6: UserWarning: No artists with labels found to put in legend.  Note that artists whose label start with an underscore are ignored when legend() is called with no argument.\n",
      "  plt.legend(loc='upper left')\n"
     ]
    },
    {
     "data": {
      "image/png": "[encoded data removed]",
      "text/plain": [
       "<Figure size 640x480 with 1 Axes>"
      ]
     },
     "metadata": {},
     "output_type": "display_data"
    }
   ],
   "source": [
    "# Add labels and formatting\n",
    "plt.xlabel('Model')\n",
    "plt.ylabel('Counterfactual Stability (higher is better)')\n",
    "plt.title('Counterfactual Stability by Race')\n",
    "plt.xticks(index + bar_width/2, model_names, rotation=45, ha='right')\n",
    "plt.legend(loc='upper left')\n",
    "ax2.legend(loc='upper right')\n",
    "plt.grid(axis='y', linestyle='--', alpha=0.7)\n",
    "plt.tight_layout()\n",
    "plt.show()"
   ]
  },
  {
   "cell_type": "code",
   "execution_count": 87,
   "id": "4faf7b13",
   "metadata": {},
   "outputs": [],
   "source": [
    "# Identify causal paths from race to recidivism prediction\n",
    "race_features = [col for col in df.columns if 'race_' in col]\n",
    "target_col = \"two_year_recid\"\n",
    "\n",
    "causal_paths = {}\n",
    "\n",
    "for race_feature in race_features:\n",
    "    if race_feature in ctf.causal_graph.nodes() and target_col in ctf.causal_graph.nodes():\n",
    "        # Find direct path (if any)\n",
    "        direct_path = ctf.causal_graph.has_edge(race_feature, target_col)\n",
    "        \n",
    "        # Find all paths from race to target\n",
    "        try:\n",
    "            all_paths = list(nx.all_simple_paths(ctf.causal_graph, race_feature, target_col))\n",
    "        except nx.NetworkXNoPath:\n",
    "            all_paths = []\n",
    "        \n",
    "        # Store results\n",
    "        causal_paths[race_feature] = {\n",
    "            'direct_path': direct_path,\n",
    "            'all_paths': all_paths,\n",
    "            'num_paths': len(all_paths)\n",
    "        }"
   ]
  },
  {
   "cell_type": "code",
   "execution_count": 89,
   "id": "dff4254d",
   "metadata": {},
   "outputs": [
    {
     "name": "stdout",
     "output_type": "stream",
     "text": [
      "Causal paths from race to recidivism:\n",
      "\n",
      "race_African-American:\n",
      "  Direct path: No\n",
      "  Number of paths: 1\n",
      "  Paths:\n",
      "    1. race_African-American -> priors_count -> two_year_recid\n",
      "\n",
      "race_Caucasian:\n",
      "  Direct path: No\n",
      "  Number of paths: 0\n"
     ]
    }
   ],
   "source": [
    "# Print causal paths\n",
    "print(\"Causal paths from race to recidivism:\")\n",
    "for race_feature, paths in causal_paths.items():\n",
    "    print(f\"\\n{race_feature}:\")\n",
    "    print(f\"  Direct path: {'Yes' if paths['direct_path'] else 'No'}\")\n",
    "    print(f\"  Number of paths: {paths['num_paths']}\")\n",
    "    \n",
    "    if paths['all_paths']:\n",
    "        print(\"  Paths:\")\n",
    "        for i, path in enumerate(paths['all_paths']):\n",
    "            print(f\"    {i+1}. {' -> '.join(path)}\")"
   ]
  },
  {
   "cell_type": "markdown",
   "source": "### Feature Importance Analysis\n\nLet's examine the feature importance for the best performing model to understand which variables \nhave the most influence on predictions and whether race-related features play a significant role.",
   "metadata": {}
  },
  {
   "cell_type": "code",
   "execution_count": 91,
   "id": "4923a4d4",
   "metadata": {},
   "outputs": [],
   "source": [
    "# Calculate feature importance by race for the best performing model\n",
    "best_model_name = max(ctf.model_performance.keys(), \n",
    "                      key=lambda m: ctf.model_performance[m]['auc'])\n",
    "best_model = ctf.models[best_model_name]"
   ]
  },
  {
   "cell_type": "code",
   "execution_count": 93,
   "id": "4d4d674e",
   "metadata": {},
   "outputs": [
    {
     "name": "stdout",
     "output_type": "stream",
     "text": [
      "Feature importance for full_lr:\n",
      "  priors_count: 0.6977\n",
      "  c_charge_degree_M: 0.1920\n",
      "  c_charge_degree_F: 0.1919\n",
      "  sex_Male: 0.1529\n",
      "  sex_Female: 0.1528\n",
      "  race_African-American: 0.0711\n",
      "  race_Caucasian: 0.0710\n",
      "  age: 0.0295\n"
     ]
    },
    {
     "data": {
      "image/png": "[encoded data removed]",
      "text/plain": [
       "<Figure size 1000x600 with 1 Axes>"
      ]
     },
     "metadata": {},
     "output_type": "display_data"
    }
   ],
   "source": [
    "# Check if model supports feature importance\n",
    "if hasattr(best_model, 'feature_importances_') or hasattr(best_model, 'coef_'):\n",
    "    # Get features used by this model\n",
    "    if best_model_name.startswith('causal_'):\n",
    "        # Get causal parents\n",
    "        parents = list(ctf.causal_graph.predecessors(ctf.target_col))\n",
    "        features = [p for p in parents if p in X_test.columns]\n",
    "    else:\n",
    "        # Use all features\n",
    "        features = X_test.columns.tolist()\n",
    "    \n",
    "    # Get feature importance\n",
    "    if hasattr(best_model, 'feature_importances_'):\n",
    "        importances = best_model.feature_importances_\n",
    "    else:\n",
    "        importances = np.abs(best_model.coef_[0] if len(best_model.coef_.shape) > 1 else best_model.coef_)\n",
    "    \n",
    "    # Create feature importance dictionary\n",
    "    feature_importance = dict(zip(features, importances))\n",
    "    \n",
    "    # Sort by importance\n",
    "    feature_importance = dict(sorted(feature_importance.items(), key=lambda item: item[1], reverse=True))\n",
    "    \n",
    "    # Display feature importance\n",
    "    print(f\"Feature importance for {best_model_name}:\")\n",
    "    for feature, importance in feature_importance.items():\n",
    "        print(f\"  {feature}: {importance:.4f}\")\n",
    "    \n",
    "    # Visualize feature importance\n",
    "    plt.figure(figsize=(10, 6))\n",
    "    \n",
    "    features = list(feature_importance.keys())\n",
    "    importances = list(feature_importance.values())\n",
    "    \n",
    "    # Add feature type coloring\n",
    "    colors = ['#cc3366' if 'race_' in f else '#3366cc' for f in features]\n",
    "    \n",
    "    plt.barh(range(len(features)), importances, color=colors)\n",
    "    plt.yticks(range(len(features)), features)\n",
    "    plt.xlabel('Importance')\n",
    "    plt.title(f'Feature Importance for {best_model_name}')\n",
    "    plt.tight_layout()\n",
    "    plt.show()"
   ]
  },
  {
   "cell_type": "code",
   "execution_count": 95,
   "id": "90b06864",
   "metadata": {},
   "outputs": [],
   "source": [
    "# Identify the best causal and full models in terms of fairness\n",
    "causal_models = [m for m in fairness_metrics.keys() if m.startswith('causal_')]\n",
    "full_models = [m for m in fairness_metrics.keys() if not m.startswith('causal_')]\n",
    "\n",
    "best_causal_fair = min(causal_models, key=lambda m: fairness_metrics[m]['fpr_gap']) if causal_models else None\n",
    "best_full_fair = min(full_models, key=lambda m: fairness_metrics[m]['fpr_gap']) if full_models else None"
   ]
  },
  {
   "cell_type": "markdown",
   "source": "### Key Fairness Insights\n\nFinally, we'll summarize the key fairness insights from our analysis:\n1. Findings from the causal structure analysis\n2. Comparison of causal vs. full models for fairness\n3. Counterfactual stability patterns across racial groups\n4. Practical recommendations for mitigating bias",
   "metadata": {}
  },
  {
   "cell_type": "code",
   "execution_count": 97,
   "id": "a19302b5",
   "metadata": {},
   "outputs": [],
   "source": [
    "# Get performance metrics\n",
    "causal_performance = ctf.model_performance.get(best_causal_fair, {}).get('auc', 0) if best_causal_fair else 0\n",
    "full_performance = ctf.model_performance.get(best_full_fair, {}).get('auc', 0) if best_full_fair else 0"
   ]
  },
  {
   "cell_type": "code",
   "execution_count": 99,
   "id": "84de02b0",
   "metadata": {},
   "outputs": [],
   "source": [
    "# Get fairness metrics\n",
    "causal_fairness = fairness_metrics.get(best_causal_fair, {}).get('fpr_gap', 0) if best_causal_fair else 0\n",
    "full_fairness = fairness_metrics.get(best_full_fair, {}).get('fpr_gap', 0) if best_full_fair else 0"
   ]
  },
  {
   "cell_type": "code",
   "execution_count": 101,
   "id": "e6b913bd",
   "metadata": {},
   "outputs": [
    {
     "name": "stdout",
     "output_type": "stream",
     "text": [
      "### Fairness Implications of CTF Analysis ###\n",
      "\n"
     ]
    }
   ],
   "source": [
    "# Print conclusions\n",
    "print(\"### Fairness Implications of CTF Analysis ###\\n\")"
   ]
  },
  {
   "cell_type": "code",
   "execution_count": 103,
   "id": "42049fd6",
   "metadata": {},
   "outputs": [
    {
     "name": "stdout",
     "output_type": "stream",
     "text": [
      "1. Causal Structure Findings:\n",
      "   - The causal analysis reveals indirect pathways from race to recidivism prediction\n",
      "   - These pathways suggest potential for disparate impact even without direct discrimination\n"
     ]
    }
   ],
   "source": [
    "# 1. Causal structure findings\n",
    "print(\"1. Causal Structure Findings:\")\n",
    "if causal_paths and any(paths['all_paths'] for paths in causal_paths.values()):\n",
    "    print(\"   - The causal analysis reveals indirect pathways from race to recidivism prediction\")\n",
    "    print(\"   - These pathways suggest potential for disparate impact even without direct discrimination\")\n",
    "else:\n",
    "    print(\"   - No significant causal pathways from race to recidivism were found\")\n",
    "    print(\"   - This suggests that racial disparities may be due to other factors\")"
   ]
  },
  {
   "cell_type": "code",
   "execution_count": 105,
   "id": "03c47846",
   "metadata": {},
   "outputs": [
    {
     "name": "stdout",
     "output_type": "stream",
     "text": [
      "\n",
      "2. Model Comparison:\n",
      "   - Best causal model for fairness: causal_lr (AUC: 0.7337, FPR Gap: 0.0005)\n",
      "   - Best full model for fairness: full_rf (AUC: 0.6267, FPR Gap: 0.0035)\n",
      "   - The causal model achieves better fairness across racial groups\n",
      "   - This suggests that focusing on causal features can mitigate bias\n",
      "   - The performance gap between models is -17.09%\n"
     ]
    }
   ],
   "source": [
    "# 2. Model comparison\n",
    "print(\"\\n2. Model Comparison:\")\n",
    "if best_causal_fair and best_full_fair:\n",
    "    print(f\"   - Best causal model for fairness: {best_causal_fair} (AUC: {causal_performance:.4f}, FPR Gap: {causal_fairness:.4f})\")\n",
    "    print(f\"   - Best full model for fairness: {best_full_fair} (AUC: {full_performance:.4f}, FPR Gap: {full_fairness:.4f})\")\n",
    "    \n",
    "    if causal_fairness < full_fairness:\n",
    "        print(\"   - The causal model achieves better fairness across racial groups\")\n",
    "        print(\"   - This suggests that focusing on causal features can mitigate bias\")\n",
    "    else:\n",
    "        print(\"   - The full model achieves better fairness despite using more features\")\n",
    "        print(\"   - This suggests that additional non-causal features may help balance predictions\")\n",
    "    \n",
    "    perf_gap = (full_performance - causal_performance) / full_performance * 100\n",
    "    print(f\"   - The performance gap between models is {perf_gap:.2f}%\")"
   ]
  },
  {
   "cell_type": "code",
   "execution_count": 107,
   "id": "6fd9f19b",
   "metadata": {},
   "outputs": [
    {
     "name": "stdout",
     "output_type": "stream",
     "text": [
      "\n",
      "3. Counterfactual Stability Findings:\n",
      "   - Model with most consistent CS across races: causal_lr (Gap: 0.0001)\n",
      "   - The stability pattern varies across models\n",
      "   - Some models are more stable for one racial group, others for the other group\n"
     ]
    }
   ],
   "source": [
    "# 3. Counterfactual stability findings\n",
    "print(\"\\n3. Counterfactual Stability Findings:\")\n",
    "if cs_by_race:\n",
    "    # Find model with lowest CS gap\n",
    "    best_cs_model = min(cs_by_race.keys(), key=lambda m: cs_by_race[m]['gap'])\n",
    "    print(f\"   - Model with most consistent CS across races: {best_cs_model} (Gap: {cs_by_race[best_cs_model]['gap']:.4f})\")\n",
    "    \n",
    "    # Check if there's a consistent pattern\n",
    "    if all(cs_by_race[m]['african_american'] < cs_by_race[m]['caucasian'] for m in cs_by_race):\n",
    "        print(\"   - Predictions for African Americans are consistently less stable than for Caucasians\")\n",
    "        print(\"   - This indicates that the model's decisions are more robust for Caucasian defendants\")\n",
    "    elif all(cs_by_race[m]['african_american'] > cs_by_race[m]['caucasian'] for m in cs_by_race):\n",
    "        print(\"   - Predictions for Caucasians are consistently less stable than for African Americans\")\n",
    "        print(\"   - This indicates that the model's decisions are more robust for African American defendants\")\n",
    "    else:\n",
    "        print(\"   - The stability pattern varies across models\")\n",
    "        print(\"   - Some models are more stable for one racial group, others for the other group\")"
   ]
  },
  {
   "cell_type": "code",
   "execution_count": 109,
   "id": "a40b6660",
   "metadata": {},
   "outputs": [
    {
     "name": "stdout",
     "output_type": "stream",
     "text": [
      "\n",
      "4. Practical Recommendations:\n",
      "   - Intervene on mediating variables in the causal pathways from race to recidivism\n",
      "   - This could involve addressing variables like priors_count which may reflect systemic bias\n",
      "   - Prioritize causal models as they provide more consistent treatment across racial groups\n",
      "   - Implement fairness monitoring systems that track disparities across protected groups\n",
      "   - Consider using counterfactual explanations to understand and justify individual decisions\n"
     ]
    }
   ],
   "source": [
    "# 4. Practical recommendations\n",
    "print(\"\\n4. Practical Recommendations:\")\n",
    "if causal_paths and any(paths['all_paths'] for paths in causal_paths.values()):\n",
    "    print(\"   - Intervene on mediating variables in the causal pathways from race to recidivism\")\n",
    "    print(\"   - This could involve addressing variables like priors_count which may reflect systemic bias\")\n",
    "    \n",
    "if cs_by_race and best_cs_model:\n",
    "    if best_cs_model.startswith('causal_'):\n",
    "        print(\"   - Prioritize causal models as they provide more consistent treatment across racial groups\")\n",
    "    else:\n",
    "        print(\"   - Consider using full models but implement additional fairness constraints\")\n",
    "    \n",
    "print(\"   - Implement fairness monitoring systems that track disparities across protected groups\")\n",
    "print(\"   - Consider using counterfactual explanations to understand and justify individual decisions\")"
   ]
  },
  {
   "cell_type": "markdown",
   "id": "ef670578",
   "metadata": {},
   "source": [
    "## 7. Conclusion\n",
    "\n",
    "In this notebook, we applied the Causal Transparency Framework to the COMPAS dataset with a focus on fairness and bias analysis. The framework provided valuable insights into:\n",
    "\n",
    "1. The causal structure underlying recidivism prediction\n",
    "2. The pathways through which racial bias may enter the prediction system\n",
    "3. The fairness implications of different modeling approaches\n",
    "4. The stability and reliability of predictions across demographic groups\n",
    "\n",
    "The CTF approach goes beyond traditional fairness metrics by examining the causal mechanisms of bias and the structural properties of the prediction system, offering a more comprehensive framework for addressing algorithmic fairness in criminal justice applications."
   ]
  },
  {
   "cell_type": "code",
   "execution_count": null,
   "id": "3d483f4a-2e72-4eb2-ae6f-294949783b59",
   "metadata": {},
   "outputs": [],
   "source": []
  },
  {
   "cell_type": "code",
   "execution_count": null,
   "id": "355515cb-990d-43d4-a925-85d00b6ddd71",
   "metadata": {},
   "outputs": [],
   "source": []
  },
  {
   "cell_type": "code",
   "execution_count": null,
   "id": "d11e79d8-ee13-4fda-90fa-af3b1e3b23bc",
   "metadata": {},
   "outputs": [],
   "source": []
  },
  {
   "cell_type": "code",
   "execution_count": null,
   "id": "d7d89377-6ff7-4307-b167-f9cfc14ebe87",
   "metadata": {},
   "outputs": [],
   "source": []
  },
  {
   "cell_type": "code",
   "execution_count": null,
   "id": "acb5b79f-7edc-4bbb-90f0-6504b2444534",
   "metadata": {},
   "outputs": [],
   "source": []
  },
  {
   "cell_type": "code",
   "execution_count": null,
   "id": "fe7d6c91-a047-4217-b753-1121c99b8bf1",
   "metadata": {},
   "outputs": [],
   "source": []
  },
  {
   "cell_type": "code",
   "execution_count": null,
   "id": "b7790e0c-c587-4824-93a4-a98db348267e",
   "metadata": {},
   "outputs": [],
   "source": []
  },
  {
   "cell_type": "code",
   "execution_count": null,
   "id": "c5a3946f-c88b-4484-a5b7-f590d27c2515",
   "metadata": {},
   "outputs": [],
   "source": []
  },
  {
   "cell_type": "code",
   "execution_count": null,
   "id": "77fc5a04-52f1-4311-9b81-979fd192a1cf",
   "metadata": {},
   "outputs": [],
   "source": []
  },
  {
   "cell_type": "code",
   "execution_count": null,
   "id": "064f6a96-5136-4689-af7f-3512a65fa092",
   "metadata": {},
   "outputs": [],
   "source": []
  }
 ],
 "metadata": {
  "kernelspec": {
   "display_name": "Python [conda env:base] *",
   "language": "python",
   "name": "conda-base-py"
  },
  "language_info": {
   "codemirror_mode": {
    "name": "ipython",
    "version": 3
   },
   "file_extension": ".py",
   "mimetype": "text/x-python",
   "name": "python",
   "nbconvert_exporter": "python",
   "pygments_lexer": "ipython3",
   "version": "3.12.7"
  }
 },
 "nbformat": 4,
 "nbformat_minor": 5
}