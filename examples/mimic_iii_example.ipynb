{
 "cells": [
  {
   "cell_type": "markdown",
   "id": "6982884f",
   "metadata": {},
   "source": "# Causal Transparency Framework - MIMIC-III Example\n\nThis notebook demonstrates the application of the Causal Transparency Framework (CTF) to the MIMIC-III clinical dataset for mortality prediction.\n\n## Overview\n\nThe CTF provides a structured approach to evaluating and enhancing model transparency through causal reasoning. In this example, we'll:\n\n1. Load and preprocess the MIMIC-III dataset\n2. Discover causal structure\n3. Train predictive models (causal and standard)\n4. Calculate transparency metrics\n5. Generate visualizations and reports\n\nThis allows us to understand the tradeoffs between model performance and transparency in clinical prediction tasks.",
   "outputs": []
  },
  {
   "cell_type": "code",
   "execution_count": 66,
   "id": "3f04de2c",
   "metadata": {},
   "outputs": [],
   "source": [
    "## Setup\n",
    "# Import path utility first to ensure CTF can be imported\n",
    "import sys\n",
    "from notebook_utils import add_ctf_to_path"
   ]
  },
  {
   "cell_type": "code",
   "execution_count": 68,
   "id": "1b217e44",
   "metadata": {},
   "outputs": [
    {
     "name": "stdout",
     "output_type": "stream",
     "text": [
      "Successfully imported CTF module from /Users/johnmarko/Desktop/The Accountability Gap of AI/mimic-iii-clinical-database-demo-1.4 4/ctf_repo/ctf/__init__.py\n"
     ]
    },
    {
     "data": {
      "text/plain": [
       "True"
      ]
     },
     "execution_count": 68,
     "metadata": {},
     "output_type": "execute_result"
    }
   ],
   "source": [
    "# Add repository root to path\n",
    "# This ensures we can import the CTF module from the repository without installation\n",
    "add_ctf_to_path()"
   ]
  },
  {
   "cell_type": "code",
   "execution_count": 70,
   "id": "40e31610",
   "metadata": {},
   "outputs": [],
   "source": [
    "# Import necessary libraries\n",
    "# We need pandas for data manipulation, numpy for numerical operations,\n",
    "# and matplotlib/seaborn for visualization\n",
    "import os\n",
    "import pandas as pd\n",
    "import numpy as np\n",
    "import matplotlib.pyplot as plt\n",
    "import seaborn as sns"
   ]
  },
  {
   "cell_type": "code",
   "execution_count": 72,
   "id": "28fa27ac",
   "metadata": {},
   "outputs": [],
   "source": [
    "# Import CTF components\n",
    "# These are the core classes we need from the Causal Transparency Framework\n",
    "from ctf.framework import CausalTransparencyFramework  # Main framework class\n",
    "from ctf.causal_discovery import CausalDiscovery       # For causal structure learning\n",
    "from ctf.transparency_metrics import TransparencyMetrics  # For calculating metrics"
   ]
  },
  {
   "cell_type": "code",
   "execution_count": 74,
   "id": "24f79160",
   "metadata": {},
   "outputs": [],
   "source": [
    "# Set random seed for reproducibility\n",
    "# This ensures our results are consistent across runs\n",
    "np.random.seed(42)"
   ]
  },
  {
   "cell_type": "markdown",
   "id": "1e8feff7",
   "metadata": {},
   "source": [
    "### Understanding the MIMIC-III Dataset\n",
    "\n",
    "The MIMIC-III dataset contains clinical data from ICU patients. For this analysis, we're using a processed version with the following features:\n",
    "\n",
    "- **age**: Patient age in years\n",
    "- **gender_m**: Binary indicator of male gender (1=male, 0=female)\n",
    "- **sofa_score**: Sequential Organ Failure Assessment score (0-24, higher scores indicate more severe organ dysfunction)\n",
    "- **lactate**: Lactate level in mmol/L (elevated levels indicate tissue hypoxia)\n",
    "- **creatinine**: Creatinine level in mg/dL (indicator of kidney function)\n",
    "- **heart_rate**: Heart rate in beats per minute\n",
    "- **respiratory_rate**: Respiratory rate in breaths per minute\n",
    "- **wbc**: White blood cell count (indicator of infection/inflammation)\n",
    "- **mortality**: Target variable (1=died, 0=survived)"
   ]
  },
  {
   "cell_type": "markdown",
   "id": "797489c7",
   "metadata": {},
   "source": [
    "## Data Loading and Preparation\n",
    "In this section, we'll load the MIMIC-III dataset for analysis. If the dataset isn't available, \n",
    "we'll create a synthetic version with realistic clinical features and relationships for demonstration purposes."
   ]
  },
  {
   "cell_type": "code",
   "execution_count": 78,
   "id": "bb3edc4f",
   "metadata": {},
   "outputs": [
    {
     "name": "stdout",
     "output_type": "stream",
     "text": [
      "Loaded data from ../data/mimic_processed_for_ctf.csv: 1000 rows, 9 columns\n"
     ]
    }
   ],
   "source": [
    "# Path to the processed MIMIC-III dataset\n",
    "# This should be a CSV file with clinical variables and mortality outcome\n",
    "data_path = \"../data/mimic_processed_for_ctf.csv\"\n",
    "\n",
    "# Load the data into a DataFrame\n",
    "df = pd.read_csv(data_path)\n",
    "print(f\"Loaded data from {data_path}: {df.shape[0]} rows, {df.shape[1]} columns\")"
   ]
  },
  {
   "cell_type": "code",
   "execution_count": 80,
   "id": "d4edb7bc",
   "metadata": {},
   "outputs": [
    {
     "name": "stdout",
     "output_type": "stream",
     "text": [
      "Dataset columns:\n",
      "['age', 'gender_m', 'sofa_score', 'lactate', 'creatinine', 'heart_rate', 'respiratory_rate', 'wbc', 'mortality']\n",
      "\n",
      "Dataset summary:\n"
     ]
    },
    {
     "data": {
      "text/html": [
       "<div>\n",
       "<style scoped>\n",
       "    .dataframe tbody tr th:only-of-type {\n",
       "        vertical-align: middle;\n",
       "    }\n",
       "\n",
       "    .dataframe tbody tr th {\n",
       "        vertical-align: top;\n",
       "    }\n",
       "\n",
       "    .dataframe thead th {\n",
       "        text-align: right;\n",
       "    }\n",
       "</style>\n",
       "<table border=\"1\" class=\"dataframe\">\n",
       "  <thead>\n",
       "    <tr style=\"text-align: right;\">\n",
       "      <th></th>\n",
       "      <th>age</th>\n",
       "      <th>gender_m</th>\n",
       "      <th>sofa_score</th>\n",
       "      <th>lactate</th>\n",
       "      <th>creatinine</th>\n",
       "      <th>heart_rate</th>\n",
       "      <th>respiratory_rate</th>\n",
       "      <th>wbc</th>\n",
       "      <th>mortality</th>\n",
       "    </tr>\n",
       "  </thead>\n",
       "  <tbody>\n",
       "    <tr>\n",
       "      <th>count</th>\n",
       "      <td>1000.000000</td>\n",
       "      <td>1000.00000</td>\n",
       "      <td>1000.000000</td>\n",
       "      <td>1000.000000</td>\n",
       "      <td>1000.000000</td>\n",
       "      <td>1000.000000</td>\n",
       "      <td>1000.000000</td>\n",
       "      <td>1000.000000</td>\n",
       "      <td>1000.000000</td>\n",
       "    </tr>\n",
       "    <tr>\n",
       "      <th>mean</th>\n",
       "      <td>65.289981</td>\n",
       "      <td>0.58300</td>\n",
       "      <td>12.588000</td>\n",
       "      <td>3.772891</td>\n",
       "      <td>1.884075</td>\n",
       "      <td>84.164639</td>\n",
       "      <td>17.891203</td>\n",
       "      <td>10.105453</td>\n",
       "      <td>0.728000</td>\n",
       "    </tr>\n",
       "    <tr>\n",
       "      <th>std</th>\n",
       "      <td>14.688239</td>\n",
       "      <td>0.49331</td>\n",
       "      <td>4.253039</td>\n",
       "      <td>1.647247</td>\n",
       "      <td>0.733670</td>\n",
       "      <td>20.382633</td>\n",
       "      <td>5.301725</td>\n",
       "      <td>4.152689</td>\n",
       "      <td>0.445213</td>\n",
       "    </tr>\n",
       "    <tr>\n",
       "      <th>min</th>\n",
       "      <td>16.380990</td>\n",
       "      <td>0.00000</td>\n",
       "      <td>0.000000</td>\n",
       "      <td>0.000000</td>\n",
       "      <td>0.300000</td>\n",
       "      <td>27.009722</td>\n",
       "      <td>1.894918</td>\n",
       "      <td>-5.346622</td>\n",
       "      <td>0.000000</td>\n",
       "    </tr>\n",
       "    <tr>\n",
       "      <th>25%</th>\n",
       "      <td>55.286145</td>\n",
       "      <td>0.00000</td>\n",
       "      <td>10.000000</td>\n",
       "      <td>2.617024</td>\n",
       "      <td>1.386617</td>\n",
       "      <td>70.411972</td>\n",
       "      <td>14.215394</td>\n",
       "      <td>7.378655</td>\n",
       "      <td>0.000000</td>\n",
       "    </tr>\n",
       "    <tr>\n",
       "      <th>50%</th>\n",
       "      <td>65.379509</td>\n",
       "      <td>1.00000</td>\n",
       "      <td>13.000000</td>\n",
       "      <td>3.827388</td>\n",
       "      <td>1.861844</td>\n",
       "      <td>83.927166</td>\n",
       "      <td>17.832140</td>\n",
       "      <td>10.018883</td>\n",
       "      <td>1.000000</td>\n",
       "    </tr>\n",
       "    <tr>\n",
       "      <th>75%</th>\n",
       "      <td>74.719158</td>\n",
       "      <td>1.00000</td>\n",
       "      <td>15.000000</td>\n",
       "      <td>4.889593</td>\n",
       "      <td>2.361026</td>\n",
       "      <td>98.314651</td>\n",
       "      <td>21.519297</td>\n",
       "      <td>12.921609</td>\n",
       "      <td>1.000000</td>\n",
       "    </tr>\n",
       "    <tr>\n",
       "      <th>max</th>\n",
       "      <td>122.790972</td>\n",
       "      <td>1.00000</td>\n",
       "      <td>24.000000</td>\n",
       "      <td>8.607916</td>\n",
       "      <td>4.128995</td>\n",
       "      <td>146.965989</td>\n",
       "      <td>35.645276</td>\n",
       "      <td>23.509532</td>\n",
       "      <td>1.000000</td>\n",
       "    </tr>\n",
       "  </tbody>\n",
       "</table>\n",
       "</div>"
      ],
      "text/plain": [
       "               age    gender_m   sofa_score      lactate   creatinine  \\\n",
       "count  1000.000000  1000.00000  1000.000000  1000.000000  1000.000000   \n",
       "mean     65.289981     0.58300    12.588000     3.772891     1.884075   \n",
       "std      14.688239     0.49331     4.253039     1.647247     0.733670   \n",
       "min      16.380990     0.00000     0.000000     0.000000     0.300000   \n",
       "25%      55.286145     0.00000    10.000000     2.617024     1.386617   \n",
       "50%      65.379509     1.00000    13.000000     3.827388     1.861844   \n",
       "75%      74.719158     1.00000    15.000000     4.889593     2.361026   \n",
       "max     122.790972     1.00000    24.000000     8.607916     4.128995   \n",
       "\n",
       "        heart_rate  respiratory_rate          wbc    mortality  \n",
       "count  1000.000000       1000.000000  1000.000000  1000.000000  \n",
       "mean     84.164639         17.891203    10.105453     0.728000  \n",
       "std      20.382633          5.301725     4.152689     0.445213  \n",
       "min      27.009722          1.894918    -5.346622     0.000000  \n",
       "25%      70.411972         14.215394     7.378655     0.000000  \n",
       "50%      83.927166         17.832140    10.018883     1.000000  \n",
       "75%      98.314651         21.519297    12.921609     1.000000  \n",
       "max     146.965989         35.645276    23.509532     1.000000  "
      ]
     },
     "execution_count": 80,
     "metadata": {},
     "output_type": "execute_result"
    }
   ],
   "source": [
    "# Explore the dataset\n",
    "print(\"Dataset columns:\")\n",
    "print(df.columns.tolist())\n",
    "\n",
    "print(\"\\nDataset summary:\")\n",
    "df.describe()"
   ]
  },
  {
   "cell_type": "code",
   "execution_count": 82,
   "id": "f99abca0",
   "metadata": {},
   "outputs": [
    {
     "name": "stdout",
     "output_type": "stream",
     "text": [
      "\n",
      "Target (mortality) distribution:\n",
      "1    0.728\n",
      "0    0.272\n",
      "Name: mortality, dtype: float64\n"
     ]
    }
   ],
   "source": [
    "# Check target distribution\n",
    "print(\"\\nTarget (mortality) distribution:\")\n",
    "print(df['mortality'].value_counts(normalize=True))"
   ]
  },
  {
   "cell_type": "code",
   "execution_count": 84,
   "id": "33d4af82",
   "metadata": {},
   "outputs": [
    {
     "data": {
      "image/png": "[encoded data removed]",
      "text/plain": [
       "<Figure size 800x500 with 1 Axes>"
      ]
     },
     "metadata": {},
     "output_type": "display_data"
    }
   ],
   "source": [
    "# Visualize target distribution\n",
    "plt.figure(figsize=(8, 5))\n",
    "sns.countplot(x='mortality', data=df)\n",
    "plt.title('Mortality Distribution')\n",
    "plt.xlabel('Mortality')\n",
    "plt.ylabel('Count')\n",
    "plt.show()"
   ]
  },
  {
   "cell_type": "markdown",
   "id": "a76f13df",
   "metadata": {},
   "source": [
    "## Applying the Causal Transparency Framework\n",
    "\n",
    "Now we'll initialize and apply the CTF to our dataset. This involves several steps:\n",
    "1. Setting up the framework with our dataset and configuration\n",
    "2. Adding domain knowledge to guide causal discovery\n",
    "3. Learning the causal structure from data\n",
    "4. Training predictive models\n",
    "5. Calculating transparency metrics"
   ]
  },
  {
   "cell_type": "code",
   "execution_count": 87,
   "id": "b95a1bd3",
   "metadata": {},
   "outputs": [
    {
     "name": "stdout",
     "output_type": "stream",
     "text": [
      "Loading data from ../data/mimic_processed_for_ctf.csv\n",
      "Data loaded: 1000 rows, 9 columns\n"
     ]
    }
   ],
   "source": [
    "# Initialize the framework\n",
    "ctf = CausalTransparencyFramework(\n",
    "    data_path=data_path,\n",
    "    target_col=\"mortality\",\n",
    "    output_dir=\"../results/mimic_iii\",\n",
    "    random_state=42\n",
    ")"
   ]
  },
  {
   "cell_type": "code",
   "execution_count": 89,
   "id": "7bd7f7fc",
   "metadata": {},
   "outputs": [],
   "source": [
    "# Add domain knowledge for clinical data\n",
    "domain_knowledge = {\n",
    "    \"edges\": [\n",
    "        # Clinical knowledge about mortality predictors\n",
    "        # Format: [source, target, weight]\n",
    "        [\"age\", \"mortality\", 0.8],\n",
    "        [\"sofa_score\", \"mortality\", 0.9],\n",
    "        [\"lactate\", \"mortality\", 0.7],\n",
    "        [\"creatinine\", \"mortality\", 0.6],\n",
    "        \n",
    "        # Feature relationships\n",
    "        [\"age\", \"creatinine\", 0.3],\n",
    "        [\"sofa_score\", \"lactate\", 0.5]\n",
    "    ]\n",
    "}"
   ]
  },
  {
   "cell_type": "code",
   "execution_count": 91,
   "id": "f1322b46",
   "metadata": {},
   "outputs": [
    {
     "name": "stdout",
     "output_type": "stream",
     "text": [
      "Discovering causal structure...\n",
      "Creating ensemble causal graph\n",
      "Creating correlation-based causal graph\n",
      "Correlation graph created with 9 nodes and 10 edges\n",
      "Skipping PC graph: 'CausalDiscovery' object has no attribute 'create_pc_graph'\n",
      "Skipping Hill Climbing graph: 'CausalDiscovery' object has no attribute 'create_hill_climbing_graph'\n",
      "Ensemble graph created with 9 nodes and 8 edges\n",
      "Causal graph discovered with 9 nodes and 8 edges\n"
     ]
    }
   ],
   "source": [
    "# Discover causal structure\n",
    "G = ctf.discover_causal_structure(domain_knowledge=domain_knowledge)\n",
    "print(f\"Causal graph discovered with {len(G.nodes())} nodes and {len(G.edges())} edges\")"
   ]
  },
  {
   "cell_type": "code",
   "execution_count": 93,
   "id": "5b654141",
   "metadata": {},
   "outputs": [
    {
     "name": "stdout",
     "output_type": "stream",
     "text": [
      "Training predictive models...\n",
      "Using 4 causal features: ['age', 'sofa_score', 'lactate', 'creatinine']\n",
      "Model causal_lr: Accuracy=0.8250, AUC=0.8754, F1=0.8845\n",
      "Model causal_rf: Accuracy=0.8550, AUC=0.8470, F1=0.9037\n",
      "Model causal_xgb: Accuracy=0.8100, AUC=0.8596, F1=0.8681\n",
      "Model full_lr: Accuracy=0.8300, AUC=0.8747, F1=0.8874\n",
      "Model full_rf: Accuracy=0.8250, AUC=0.8562, F1=0.8845\n",
      "Model full_xgb: Accuracy=0.8250, AUC=0.8584, F1=0.8845\n",
      "Trained 6 models\n"
     ]
    },
    {
     "name": "stderr",
     "output_type": "stream",
     "text": [
      "/opt/anaconda3/lib/python3.12/site-packages/sklearn/linear_model/_logistic.py:469: ConvergenceWarning: lbfgs failed to converge (status=1):\n",
      "STOP: TOTAL NO. of ITERATIONS REACHED LIMIT.\n",
      "\n",
      "Increase the number of iterations (max_iter) or scale the data as shown in:\n",
      "    https://scikit-learn.org/stable/modules/preprocessing.html\n",
      "Please also refer to the documentation for alternative solver options:\n",
      "    https://scikit-learn.org/stable/modules/linear_model.html#logistic-regression\n",
      "  n_iter_i = _check_optimize_result(\n"
     ]
    }
   ],
   "source": [
    "# Train predictive models\n",
    "models = ctf.train_models(test_size=0.2)\n",
    "print(f\"Trained {len(models)} models\")"
   ]
  },
  {
   "cell_type": "code",
   "execution_count": 95,
   "id": "ccbd5bbd",
   "metadata": {},
   "outputs": [
    {
     "name": "stdout",
     "output_type": "stream",
     "text": [
      "Calculating transparency metrics...\n",
      "Top 5 features by Causal Influence Index:\n",
      "  sofa_score: 0.3442\n",
      "  age: 0.2441\n",
      "  lactate: 0.2385\n",
      "  creatinine: 0.1732\n",
      "CCM Calculation:\n",
      "  Graph complexity (K_G): 18.42\n",
      "  Model complexity (K_F): 22348.00\n",
      "  CCM (raw): 22366.42\n",
      "  CCM (scaled): 14.45\n",
      "\n",
      "Calculating metrics for model: causal_lr\n",
      "Transparency Entropy Calculation:\n",
      "  H(M|O): 0.5828\n",
      "  H(M|I,O): 0.4163\n",
      "  TE: 0.1665\n",
      "Calculating CS for features: ['age', 'sofa_score', 'lactate', 'creatinine']\n",
      "  Calculating CS for feature 'age'...\n",
      "    CS(age) = 0.9959\n",
      "  Calculating CS for feature 'sofa_score'...\n",
      "    CS(sofa_score) = 0.9878\n",
      "  Calculating CS for feature 'lactate'...\n",
      "    CS(lactate) = 0.9957\n",
      "  Calculating CS for feature 'creatinine'...\n",
      "    CS(creatinine) = 0.9985\n",
      "  Overall CS = 0.9945\n",
      "Radar chart saved to ../results/mimic_iii/visualizations/ctf_radar_causal_lr.png\n",
      "\n",
      "Calculating metrics for model: causal_rf\n",
      "Transparency Entropy Calculation:\n",
      "  H(M|O): 0.5542\n",
      "  H(M|I,O): 0.3958\n",
      "  TE: 0.1583\n",
      "Calculating CS for features: ['age', 'sofa_score', 'lactate', 'creatinine']\n",
      "  Calculating CS for feature 'age'...\n",
      "    CS(age) = 0.9724\n",
      "  Calculating CS for feature 'sofa_score'...\n",
      "    CS(sofa_score) = 0.9889\n",
      "  Calculating CS for feature 'lactate'...\n",
      "    CS(lactate) = 0.9729\n",
      "  Calculating CS for feature 'creatinine'...\n",
      "    CS(creatinine) = 0.9788\n",
      "  Overall CS = 0.9782\n",
      "Radar chart saved to ../results/mimic_iii/visualizations/ctf_radar_causal_rf.png\n",
      "\n",
      "Calculating metrics for model: causal_xgb\n",
      "Transparency Entropy Calculation:\n",
      "  H(M|O): 0.3726\n",
      "  H(M|I,O): 0.2662\n",
      "  TE: 0.1065\n",
      "Calculating CS for features: ['age', 'sofa_score', 'lactate', 'creatinine']\n",
      "  Calculating CS for feature 'age'...\n",
      "    CS(age) = 0.9476\n",
      "  Calculating CS for feature 'sofa_score'...\n",
      "    CS(sofa_score) = 0.9754\n",
      "  Calculating CS for feature 'lactate'...\n",
      "    CS(lactate) = 0.9453\n",
      "  Calculating CS for feature 'creatinine'...\n",
      "    CS(creatinine) = 0.9573\n",
      "  Overall CS = 0.9564\n",
      "Radar chart saved to ../results/mimic_iii/visualizations/ctf_radar_causal_xgb.png\n",
      "\n",
      "Calculating metrics for model: full_lr\n",
      "Transparency Entropy Calculation:\n",
      "  H(M|O): 0.5784\n",
      "  H(M|I,O): 0.3213\n",
      "  TE: 0.2570\n",
      "Calculating CS for features: ['sofa_score', 'lactate', 'creatinine', 'gender_m', 'age']\n",
      "  Calculating CS for feature 'sofa_score'...\n",
      "    CS(sofa_score) = 0.9887\n",
      "  Calculating CS for feature 'lactate'...\n",
      "    CS(lactate) = 0.9956\n",
      "  Calculating CS for feature 'creatinine'...\n",
      "    CS(creatinine) = 0.9982\n",
      "  Calculating CS for feature 'gender_m'...\n",
      "    CS(gender_m) = 0.9991\n",
      "  Calculating CS for feature 'age'...\n",
      "    CS(age) = 0.9955\n",
      "  Overall CS = 0.9954\n",
      "Radar chart saved to ../results/mimic_iii/visualizations/ctf_radar_full_lr.png\n",
      "\n",
      "Calculating metrics for model: full_rf\n",
      "Transparency Entropy Calculation:\n",
      "  H(M|O): 0.5966\n",
      "  H(M|I,O): 0.3314\n",
      "  TE: 0.2652\n",
      "Calculating CS for features: ['sofa_score', 'lactate', 'age', 'creatinine', 'heart_rate']\n",
      "  Calculating CS for feature 'sofa_score'...\n",
      "    CS(sofa_score) = 0.9931\n",
      "  Calculating CS for feature 'lactate'...\n",
      "    CS(lactate) = 0.9875\n",
      "  Calculating CS for feature 'age'...\n",
      "    CS(age) = 0.9879\n",
      "  Calculating CS for feature 'creatinine'...\n",
      "    CS(creatinine) = 0.9890\n",
      "  Calculating CS for feature 'heart_rate'...\n",
      "    CS(heart_rate) = 0.9930\n",
      "  Overall CS = 0.9901\n",
      "Radar chart saved to ../results/mimic_iii/visualizations/ctf_radar_full_rf.png\n",
      "\n",
      "Calculating metrics for model: full_xgb\n",
      "Transparency Entropy Calculation:\n",
      "  H(M|O): 0.3153\n",
      "  H(M|I,O): 0.1752\n",
      "  TE: 0.1401\n",
      "Calculating CS for features: ['sofa_score', 'lactate', 'respiratory_rate', 'heart_rate', 'age']\n",
      "  Calculating CS for feature 'sofa_score'...\n",
      "    CS(sofa_score) = 0.9797\n",
      "  Calculating CS for feature 'lactate'...\n",
      "    CS(lactate) = 0.9725\n",
      "  Calculating CS for feature 'respiratory_rate'...\n",
      "    CS(respiratory_rate) = 0.9876\n",
      "  Calculating CS for feature 'heart_rate'...\n",
      "    CS(heart_rate) = 0.9839\n",
      "  Calculating CS for feature 'age'...\n",
      "    CS(age) = 0.9776\n",
      "  Overall CS = 0.9802\n",
      "Radar chart saved to ../results/mimic_iii/visualizations/ctf_radar_full_xgb.png\n",
      "Model comparison chart saved to ../results/mimic_iii/visualizations/model_comparison.png\n",
      "CTF metrics comparison chart saved to ../results/mimic_iii/visualizations/ctf_metrics_comparison.png\n",
      "Metrics saved to output directory\n",
      "Transparency metrics calculated\n"
     ]
    }
   ],
   "source": [
    "# Calculate transparency metrics\n",
    "metrics = ctf.calculate_transparency_metrics()\n",
    "print(\"Transparency metrics calculated\")"
   ]
  },
  {
   "cell_type": "markdown",
   "id": "66b364f6",
   "metadata": {},
   "source": [
    "## Analyzing Transparency Metrics\n",
    "\n",
    "After running the framework, we have several metrics to analyze:\n",
    "\n",
    "1. **Causal Influence Index (CII)**: Measures how much each feature causally influences the prediction\n",
    "2. **Causal Complexity Measure (CCM)**: Quantifies the complexity of the causal model\n",
    "3. **Transparency Entropy (TE)**: Measures the interpretability of model decisions\n",
    "4. **Counterfactual Stability (CS)**: Tests model robustness to changes in inputs\n",
    "\n",
    "Let's examine these metrics to understand how transparent our models are."
   ]
  },
  {
   "cell_type": "code",
   "execution_count": 98,
   "id": "5c7a92ca",
   "metadata": {},
   "outputs": [
    {
     "name": "stdout",
     "output_type": "stream",
     "text": [
      "CTF report generated at ../results/mimic_iii/report/ctf_report.md\n",
      "CTF report generated at ../results/mimic_iii/report/ctf_report.md\n"
     ]
    }
   ],
   "source": [
    "# Generate report\n",
    "report_path = ctf.generate_report()\n",
    "print(f\"CTF report generated at {report_path}\")"
   ]
  },
  {
   "cell_type": "code",
   "execution_count": 100,
   "id": "40e32ed0",
   "metadata": {},
   "outputs": [
    {
     "name": "stdout",
     "output_type": "stream",
     "text": [
      "Top 5 features by Causal Influence Index (CII):\n",
      "1. sofa_score: 0.3442\n",
      "2. age: 0.2441\n",
      "3. lactate: 0.2385\n",
      "4. creatinine: 0.1732\n"
     ]
    },
    {
     "data": {
      "image/png": "[encoded data removed]",
      "text/plain": [
       "<Figure size 1000x600 with 1 Axes>"
      ]
     },
     "metadata": {},
     "output_type": "display_data"
    }
   ],
   "source": [
    "# Examine Causal Influence Index (CII)\n",
    "if 'cii' in metrics:\n",
    "    print(\"Top 5 features by Causal Influence Index (CII):\")\n",
    "    \n",
    "    for i, (feature, score) in enumerate(list(metrics['cii'].items())[:5]):\n",
    "        print(f\"{i+1}. {feature}: {score:.4f}\")\n",
    "        \n",
    "    # Visualize CII\n",
    "    plt.figure(figsize=(10, 6))\n",
    "    \n",
    "    features = list(metrics['cii'].keys())[:10]  # Top 10 features\n",
    "    scores = [metrics['cii'][f] for f in features]\n",
    "    \n",
    "    sns.barplot(x=scores, y=features)\n",
    "    plt.title('Top Features by Causal Influence Index')\n",
    "    plt.xlabel('CII')\n",
    "    plt.tight_layout()\n",
    "    plt.show()"
   ]
  },
  {
   "cell_type": "code",
   "execution_count": 102,
   "id": "979aa7ac",
   "metadata": {},
   "outputs": [],
   "source": [
    "# Compare model performance\n",
    "model_names = list(ctf.model_performance.keys())\n",
    "accuracy = [ctf.model_performance[m]['accuracy'] for m in model_names]\n",
    "auc = [ctf.model_performance[m]['auc'] for m in model_names]\n",
    "f1 = [ctf.model_performance[m]['f1'] for m in model_names]\n",
    "n_features = [ctf.model_performance[m]['n_features'] for m in model_names]"
   ]
  },
  {
   "cell_type": "code",
   "execution_count": 104,
   "id": "90c985c2",
   "metadata": {},
   "outputs": [],
   "source": [
    "# Create DataFrame\n",
    "performance_df = pd.DataFrame({\n",
    "    'Model': model_names,\n",
    "    'Accuracy': accuracy,\n",
    "    'AUC': auc,\n",
    "    'F1': f1,\n",
    "    'Features': n_features,\n",
    "    'Type': ['Causal' if m.startswith('causal_') else 'Full' for m in model_names]\n",
    "})"
   ]
  },
  {
   "cell_type": "markdown",
   "id": "5bac07f3",
   "metadata": {},
   "source": [
    "### Comparing Model Performance and Transparency\n",
    "\n",
    "Next, we'll create visualizations to understand the tradeoff between model performance (measured by AUC) and transparency (measured by TE). This will help us identify which models provide the best balance of accuracy and interpretability."
   ]
  },
  {
   "cell_type": "code",
   "execution_count": 107,
   "id": "16a8e9e2",
   "metadata": {},
   "outputs": [
    {
     "data": {
      "text/html": [
       "<div>\n",
       "<style scoped>\n",
       "    .dataframe tbody tr th:only-of-type {\n",
       "        vertical-align: middle;\n",
       "    }\n",
       "\n",
       "    .dataframe tbody tr th {\n",
       "        vertical-align: top;\n",
       "    }\n",
       "\n",
       "    .dataframe thead th {\n",
       "        text-align: right;\n",
       "    }\n",
       "</style>\n",
       "<table border=\"1\" class=\"dataframe\">\n",
       "  <thead>\n",
       "    <tr style=\"text-align: right;\">\n",
       "      <th></th>\n",
       "      <th>Model</th>\n",
       "      <th>Accuracy</th>\n",
       "      <th>AUC</th>\n",
       "      <th>F1</th>\n",
       "      <th>Features</th>\n",
       "      <th>Type</th>\n",
       "    </tr>\n",
       "  </thead>\n",
       "  <tbody>\n",
       "    <tr>\n",
       "      <th>0</th>\n",
       "      <td>causal_lr</td>\n",
       "      <td>0.825</td>\n",
       "      <td>0.875361</td>\n",
       "      <td>0.884488</td>\n",
       "      <td>4</td>\n",
       "      <td>Causal</td>\n",
       "    </tr>\n",
       "    <tr>\n",
       "      <th>3</th>\n",
       "      <td>full_lr</td>\n",
       "      <td>0.830</td>\n",
       "      <td>0.874734</td>\n",
       "      <td>0.887417</td>\n",
       "      <td>8</td>\n",
       "      <td>Full</td>\n",
       "    </tr>\n",
       "    <tr>\n",
       "      <th>2</th>\n",
       "      <td>causal_xgb</td>\n",
       "      <td>0.810</td>\n",
       "      <td>0.859561</td>\n",
       "      <td>0.868056</td>\n",
       "      <td>4</td>\n",
       "      <td>Causal</td>\n",
       "    </tr>\n",
       "    <tr>\n",
       "      <th>5</th>\n",
       "      <td>full_xgb</td>\n",
       "      <td>0.825</td>\n",
       "      <td>0.858433</td>\n",
       "      <td>0.884488</td>\n",
       "      <td>8</td>\n",
       "      <td>Full</td>\n",
       "    </tr>\n",
       "    <tr>\n",
       "      <th>4</th>\n",
       "      <td>full_rf</td>\n",
       "      <td>0.825</td>\n",
       "      <td>0.856176</td>\n",
       "      <td>0.884488</td>\n",
       "      <td>8</td>\n",
       "      <td>Full</td>\n",
       "    </tr>\n",
       "    <tr>\n",
       "      <th>1</th>\n",
       "      <td>causal_rf</td>\n",
       "      <td>0.855</td>\n",
       "      <td>0.847022</td>\n",
       "      <td>0.903654</td>\n",
       "      <td>4</td>\n",
       "      <td>Causal</td>\n",
       "    </tr>\n",
       "  </tbody>\n",
       "</table>\n",
       "</div>"
      ],
      "text/plain": [
       "        Model  Accuracy       AUC        F1  Features    Type\n",
       "0   causal_lr     0.825  0.875361  0.884488         4  Causal\n",
       "3     full_lr     0.830  0.874734  0.887417         8    Full\n",
       "2  causal_xgb     0.810  0.859561  0.868056         4  Causal\n",
       "5    full_xgb     0.825  0.858433  0.884488         8    Full\n",
       "4     full_rf     0.825  0.856176  0.884488         8    Full\n",
       "1   causal_rf     0.855  0.847022  0.903654         4  Causal"
      ]
     },
     "execution_count": 107,
     "metadata": {},
     "output_type": "execute_result"
    }
   ],
   "source": [
    "# Display as table\n",
    "performance_df.sort_values('AUC', ascending=False)"
   ]
  },
  {
   "cell_type": "code",
   "execution_count": 109,
   "id": "af6066fc",
   "metadata": {},
   "outputs": [],
   "source": [
    "# Compare transparency metrics across models\n",
    "if 'te' in metrics and 'cs' in metrics:\n",
    "    transparency_df = pd.DataFrame({\n",
    "        'Model': model_names,\n",
    "        'TE': [metrics['te'][m].get('te', 0) for m in model_names],\n",
    "        'CS': [metrics['cs'][m].get('overall', 0) for m in model_names],\n",
    "        'Type': ['Causal' if m.startswith('causal_') else 'Full' for m in model_names]\n",
    "    })\n",
    "    \n",
    "    # Display as table\n",
    "    transparency_df.sort_values('TE', ascending=False)"
   ]
  },
  {
   "cell_type": "code",
   "execution_count": 111,
   "id": "c1639406",
   "metadata": {},
   "outputs": [
    {
     "data": {
      "text/plain": [
       "<Figure size 1000x600 with 0 Axes>"
      ]
     },
     "execution_count": 111,
     "metadata": {},
     "output_type": "execute_result"
    },
    {
     "data": {
      "text/plain": [
       "<Figure size 1000x600 with 0 Axes>"
      ]
     },
     "metadata": {},
     "output_type": "display_data"
    }
   ],
   "source": [
    "# Create a scatterplot of AUC vs. TE\n",
    "plt.figure(figsize=(10, 6))"
   ]
  },
  {
   "cell_type": "markdown",
   "id": "6173b411",
   "metadata": {},
   "source": [
    "### Key Clinical Insights\n",
    "\n",
    "Finally, we'll extract and summarize the key findings from our analysis. These include:\n",
    "- Identifying the most important clinical features for mortality prediction\n",
    "- Comparing performance of causal vs. full models \n",
    "- Evaluating transparency and stability metrics\n",
    "- Drawing clinical implications from the results"
   ]
  },
  {
   "cell_type": "code",
   "execution_count": 114,
   "id": "de1c21f8",
   "metadata": {},
   "outputs": [],
   "source": [
    "# Create a combined DataFrame\n",
    "combined_df = pd.merge(performance_df, transparency_df, on='Model')"
   ]
  },
  {
   "cell_type": "code",
   "execution_count": 116,
   "id": "a2ebfb20",
   "metadata": {},
   "outputs": [
    {
     "data": {
      "text/plain": [
       "<Axes: xlabel='AUC', ylabel='TE'>"
      ]
     },
     "execution_count": 116,
     "metadata": {},
     "output_type": "execute_result"
    },
    {
     "data": {
      "image/png": "[encoded data removed]",
      "text/plain": [
       "<Figure size 640x480 with 1 Axes>"
      ]
     },
     "metadata": {},
     "output_type": "display_data"
    }
   ],
   "source": [
    "# Plot\n",
    "sns.scatterplot(data=combined_df, x='AUC', y='TE', hue='Type_x', size='Features', \n",
    "                sizes=(100, 400), alpha=0.7)"
   ]
  },
  {
   "cell_type": "code",
   "execution_count": 118,
   "id": "d66a1834",
   "metadata": {},
   "outputs": [
    {
     "data": {
      "image/png": "[encoded data removed]",
      "text/plain": [
       "<Figure size 1000x600 with 1 Axes>"
      ]
     },
     "metadata": {},
     "output_type": "display_data"
    }
   ],
   "source": [
    "# Create a clear figure with proper size\n",
    "plt.figure(figsize=(10, 6))\n",
    "\n",
    "# Create scatter plot with model performance vs transparency metrics\n",
    "sns.scatterplot(data=combined_df, x='AUC', y='TE', hue='Type_x', style='Type_x',\n",
    "                s=150, palette=['#3366cc', '#cc3366'])\n",
    "\n",
    "# Add model name labels with offset for readability\n",
    "for i, row in combined_df.iterrows():\n",
    "    plt.text(row['AUC'] + 0.005, row['TE'] + 0.005, row['Model'], fontsize=10)\n",
    "\n",
    "# Add proper formatting\n",
    "plt.title('Performance vs. Transparency Tradeoff', fontsize=14)\n",
    "plt.xlabel('AUC (performance)', fontsize=12)\n",
    "plt.ylabel('Transparency Entropy (interpretability)', fontsize=12)\n",
    "\n",
    "# Set reasonable axis limits\n",
    "plt.xlim(0.8, 0.9)  # Adjust based on your actual data\n",
    "plt.ylim(0.05, 0.3)  # Adjust based on your actual data\n",
    "\n",
    "plt.grid(alpha=0.3)\n",
    "plt.tight_layout()\n",
    "plt.show()"
   ]
  },
  {
   "cell_type": "code",
   "execution_count": 120,
   "id": "388fd248",
   "metadata": {},
   "outputs": [],
   "source": [
    "# Extract key findings\n",
    "top_cii_features = list(metrics['cii'].items())[:3]\n",
    "best_causal_model = max([m for m in model_names if m.startswith('causal_')], \n",
    "                        key=lambda m: ctf.model_performance[m]['auc'])\n",
    "best_full_model = max([m for m in model_names if not m.startswith('causal_')], \n",
    "                      key=lambda m: ctf.model_performance[m]['auc'])\n",
    "\n",
    "causal_auc = ctf.model_performance[best_causal_model]['auc']\n",
    "full_auc = ctf.model_performance[best_full_model]['auc']\n",
    "\n",
    "causal_te = metrics['te'][best_causal_model]['te']\n",
    "full_te = metrics['te'][best_full_model]['te']\n",
    "\n",
    "causal_cs = metrics['cs'][best_causal_model]['overall']\n",
    "full_cs = metrics['cs'][best_full_model]['overall']"
   ]
  },
  {
   "cell_type": "code",
   "execution_count": 122,
   "id": "ccf85652",
   "metadata": {},
   "outputs": [
    {
     "name": "stdout",
     "output_type": "stream",
     "text": [
      "### Key Clinical Findings ###\n",
      "\n",
      "1. Causal Drivers of Mortality:\n",
      "   - sofa_score (CII: 0.3442)\n",
      "   - age (CII: 0.2441)\n",
      "   - lactate (CII: 0.2385)\n",
      "\n",
      "2. Model Performance Comparison:\n",
      "   - Best causal model (causal_lr): AUC = 0.8754\n",
      "   - Best full model (full_lr): AUC = 0.8747\n",
      "   - Performance gap: -0.06%\n",
      "\n",
      "3. Transparency Metrics:\n",
      "   - Transparency Entropy (TE): Causal = 0.1665, Full = 0.2570\n",
      "   - Counterfactual Stability (CS): Causal = 0.9945, Full = 0.9954\n",
      "\n",
      "4. Clinical Implications:\n",
      "   - The causal model with fewer features performs nearly as well as the full model\n",
      "   - This suggests that focusing on key causal factors may be sufficient for clinical use\n",
      "   - Despite using more features, the full model offers better interpretability\n",
      "   - The full model provides more stable predictions, possibly due to redundant features\n"
     ]
    }
   ],
   "source": [
    "# Print key findings\n",
    "print(\"### Key Clinical Findings ###\\n\")\n",
    "\n",
    "print(\"1. Causal Drivers of Mortality:\")\n",
    "for feature, cii in top_cii_features:\n",
    "    print(f\"   - {feature} (CII: {cii:.4f})\")\n",
    "\n",
    "print(f\"\\n2. Model Performance Comparison:\")\n",
    "print(f\"   - Best causal model ({best_causal_model}): AUC = {causal_auc:.4f}\")\n",
    "print(f\"   - Best full model ({best_full_model}): AUC = {full_auc:.4f}\")\n",
    "print(f\"   - Performance gap: {(full_auc - causal_auc) * 100:.2f}%\")\n",
    "\n",
    "print(f\"\\n3. Transparency Metrics:\")\n",
    "print(f\"   - Transparency Entropy (TE): Causal = {causal_te:.4f}, Full = {full_te:.4f}\")\n",
    "print(f\"   - Counterfactual Stability (CS): Causal = {causal_cs:.4f}, Full = {full_cs:.4f}\")\n",
    "\n",
    "print(\"\\n4. Clinical Implications:\")\n",
    "if causal_auc >= 0.95 * full_auc:\n",
    "    print(\"   - The causal model with fewer features performs nearly as well as the full model\")\n",
    "    print(\"   - This suggests that focusing on key causal factors may be sufficient for clinical use\")\n",
    "else:\n",
    "    print(\"   - The full model substantially outperforms the causal model\")\n",
    "    print(\"   - This suggests that non-causal correlations provide important predictive value\")\n",
    "    \n",
    "if causal_te > full_te:\n",
    "    print(\"   - The causal model offers greater transparency, making it more interpretable for clinicians\")\n",
    "else:\n",
    "    print(\"   - Despite using more features, the full model offers better interpretability\")\n",
    "    \n",
    "if causal_cs > full_cs:\n",
    "    print(\"   - The causal model provides more stable predictions under perturbations\")\n",
    "    print(\"   - This suggests greater reliability when input data has small variations\")\n",
    "else:\n",
    "    print(\"   - The full model provides more stable predictions, possibly due to redundant features\")"
   ]
  },
  {
   "cell_type": "markdown",
   "id": "73d4bd34",
   "metadata": {},
   "source": [
    "## 5. Conclusion\n",
    "\n",
    "In this notebook, we applied the Causal Transparency Framework to the MIMIC-III dataset for mortality prediction. The framework provided valuable insights into:\n",
    "\n",
    "1. The causal structure underlying mortality prediction\n",
    "2. The key causal drivers of mortality risk\n",
    "3. The performance-transparency tradeoff between causal and full models\n",
    "4. The interpretability and stability of different modeling approaches\n",
    "\n",
    "These insights can guide clinicians and data scientists in developing more transparent and reliable clinical prediction models."
   ]
  }
 ],
 "metadata": {
  "kernelspec": {
   "display_name": "Python [conda env:base] *",
   "language": "python",
   "name": "conda-base-py"
  },
  "language_info": {
   "codemirror_mode": {
    "name": "ipython",
    "version": 3
   },
   "file_extension": ".py",
   "mimetype": "text/x-python",
   "name": "python",
   "nbconvert_exporter": "python",
   "pygments_lexer": "ipython3",
   "version": "3.12.7"
  }
 },
 "nbformat": 4,
 "nbformat_minor": 5
}